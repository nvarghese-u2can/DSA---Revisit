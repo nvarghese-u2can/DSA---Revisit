{
  "nbformat": 4,
  "nbformat_minor": 0,
  "metadata": {
    "colab": {
      "name": "Heap Implementation with Insert_Remove.ipynb",
      "provenance": [],
      "collapsed_sections": [],
      "authorship_tag": "ABX9TyPcp92mNq76zrosxI2lXdUC"
    },
    "kernelspec": {
      "name": "python3",
      "display_name": "Python 3"
    },
    "language_info": {
      "name": "python"
    }
  },
  "cells": [
    {
      "cell_type": "markdown",
      "source": [
        "# Implementation of Heap Data Structure"
      ],
      "metadata": {
        "id": "mshrWBx21L78"
      }
    },
    {
      "cell_type": "markdown",
      "source": [
        "**Max- Heap**"
      ],
      "metadata": {
        "id": "EcVx8TRc1UbQ"
      }
    },
    {
      "cell_type": "code",
      "execution_count": null,
      "metadata": {
        "colab": {
          "base_uri": "https://localhost:8080/"
        },
        "id": "jaypUceA1LGC",
        "outputId": "e1f1ed0f-518e-4bb1-a669-49dc35b6a11a"
      },
      "outputs": [
        {
          "output_type": "stream",
          "name": "stdout",
          "text": [
            "Max Heap is : [100, 93, 57, 89, 60, 43, 52, 70, 52, 19, 20]\n"
          ]
        }
      ],
      "source": [
        "import random\n",
        "\n",
        "def parentIdx(idx):\n",
        "  return idx // 2\n",
        "\n",
        "def leftChildIdx(idx):\n",
        "  return (2*idx) + 1\n",
        "\n",
        "def rightChildIdx(idx):\n",
        "  return (2*idx) + 2\n",
        "\n",
        "def maxHeapify(data,heapLength,idx):\n",
        "\n",
        "  largest = idx\n",
        "  left = leftChildIdx(idx)\n",
        "  right = rightChildIdx(idx)   \n",
        "\n",
        "  if left < len(data) and data[idx] < data[left]:\n",
        "    largest = left\n",
        "\n",
        "  if right < len(data) and data[largest] < data[right]:\n",
        "    largest = right\n",
        "  \n",
        "  if largest != idx:\n",
        "    data[idx],data[largest] = data[largest],data[idx]\n",
        "    maxHeapify(data,heapLength,largest)\n",
        "\n",
        "def buildMaxHeap(data):\n",
        "  heapLength = len(data)\n",
        "  mid = heapLength // 2\n",
        "  for  idx in range(mid-1,-1,-1):    \n",
        "    maxHeapify(data,heapLength,idx)\n",
        "\n",
        "  return data\n",
        "\n",
        "if __name__ == '__main__':\n",
        "\n",
        "  # print(f'Max Heap is : {buildMaxHeap([int(input(\"Input the heap elements\")) for idx in range(8)])}')\n",
        "  print(f'Max Heap is : {buildMaxHeap([random.randint(10,100) for idx in range(random.randint(10,15))])}')"
      ]
    },
    {
      "cell_type": "markdown",
      "source": [
        "**Min- Heap**"
      ],
      "metadata": {
        "id": "ndhAPy6KUccU"
      }
    },
    {
      "cell_type": "code",
      "source": [
        "def minHeapify(data, heapLeangth,idx):\n",
        "  \n",
        "  smallest = idx\n",
        "  left = leftChildIdx(idx)\n",
        "  right = rightChildIdx(idx)\n",
        "\n",
        "  if left < heapLeangth and data[idx] > data[left]:\n",
        "    smallest = left\n",
        "  if right < heapLeangth and data[smallest] > data[right]:\n",
        "    smallest = right\n",
        "  \n",
        "  if smallest != idx:\n",
        "    data[idx],data[smallest] = data[smallest],data[idx]\n",
        "    minHeapify(data,heapLeangth,smallest)\n",
        "\n",
        "\n",
        "\n",
        "def buildMinHeap(data):\n",
        "  if data is None:\n",
        "    return None\n",
        "  \n",
        "  heapLength = len(data)\n",
        "  mid = heapLength // 2\n",
        "\n",
        "  for idx in range(mid-1,-1,-1):\n",
        "    minHeapify(data, heapLength,idx)\n",
        "  \n",
        "  return data\n",
        "\n",
        "if __name__ == '__main__':\n",
        "  # print(f'Min Heap is : {buildMinHeap([ int(input(\"Input the heap elements\")) for idx in range(8)])}')\n",
        "  print(f'Min Heap is : {buildMinHeap([random.randint(10,100) for idx in range(random.randint(10,15))])}')\n"
      ],
      "metadata": {
        "colab": {
          "base_uri": "https://localhost:8080/"
        },
        "id": "VDNQYVdz9azx",
        "outputId": "85e87f1f-9024-423b-c822-6deebfcc1684"
      },
      "execution_count": null,
      "outputs": [
        {
          "output_type": "stream",
          "name": "stdout",
          "text": [
            "Min Heap is : [12, 19, 15, 42, 42, 42, 62, 88, 59, 45, 99, 97, 66]\n"
          ]
        }
      ]
    },
    {
      "cell_type": "markdown",
      "source": [
        "**Insert into Heap**"
      ],
      "metadata": {
        "id": "s7HgGaioFhFC"
      }
    },
    {
      "cell_type": "markdown",
      "source": [
        "**Min Heap**"
      ],
      "metadata": {
        "id": "IOiz6Hx9Flej"
      }
    },
    {
      "cell_type": "code",
      "source": [
        "def buildMinHeapwithInsert(data,value):\n",
        "  if data is None:\n",
        "    return None\n",
        "  data.append(value)\n",
        "  heapLength = len(data)\n",
        "  mid = heapLength // 2\n",
        "\n",
        "  for idx in range(mid-1,-1,-1):\n",
        "    minHeapify(data, heapLength,idx)\n",
        "  \n",
        "  return data\n",
        "\n",
        "if __name__ == '__main__':\n",
        "  # print(f'Min Heap with insert : {buildMinHeapwithInsert([ int(input(\"Input the heap elements\")) for idx in range(8)],int(input(\"Enter the element to insert\")))}')\n",
        "  print(f'Min Heap with insert : {buildMinHeapwithInsert([random.randint(10,100) for idx in range(random.randint(10,15))],int(input(\"Enter the element to insert :\")))}')"
      ],
      "metadata": {
        "colab": {
          "base_uri": "https://localhost:8080/"
        },
        "id": "zSzcVOWfUoNx",
        "outputId": "94c278a3-2c06-4323-f5bf-dcc34c81f2c0"
      },
      "execution_count": null,
      "outputs": [
        {
          "output_type": "stream",
          "name": "stdout",
          "text": [
            "Enter the element to insert :456\n",
            "Min Heap with insert : [12, 19, 85, 33, 63, 91, 93, 100, 76, 65, 68, 99, 456]\n"
          ]
        }
      ]
    },
    {
      "cell_type": "markdown",
      "source": [
        "**Max Heap**"
      ],
      "metadata": {
        "id": "Vei0T_A6Fo6u"
      }
    },
    {
      "cell_type": "code",
      "source": [
        "def buildMaxHeapwithInsert(data,value):\n",
        "  data.append(value)\n",
        "  heapLength = len(data)\n",
        "  mid = heapLength // 2\n",
        "  for  idx in range(mid-1,-1,-1):    \n",
        "    maxHeapify(data,heapLength,idx)\n",
        "\n",
        "  return data\n",
        "\n",
        "if __name__ == '__main__':\n",
        "  # print(f'Max Heap with insert : {buildMaxHeapwithInsert([ int(input(\"Input the heap elements\")) for idx in range(8)],int(input(\"Enter the element to insert\")))}')\n",
        "  # print(f'Max Heap with insert : {buildMaxHeapwithInsert([int(input(\"Input the heap elements\")) for idx in range(8)],int(input(\"Enter the element to insert\")))}')\n",
        "  print(f'Max Heap with insert : {buildMaxHeapwithInsert([random.randint(10,100) for idx in range(random.randint(10,15))],int(input(\"Enter the element to insert\")))}')\n"
      ],
      "metadata": {
        "colab": {
          "base_uri": "https://localhost:8080/"
        },
        "id": "d9s9stPGhZZg",
        "outputId": "9a367c2a-33fb-4105-daa6-a669cc6725a1"
      },
      "execution_count": null,
      "outputs": [
        {
          "output_type": "stream",
          "name": "stdout",
          "text": [
            "Enter the element to insert454\n",
            "Max Heap with insert : [454, 92, 67, 65, 87, 36, 20, 30, 19, 58, 54]\n"
          ]
        }
      ]
    },
    {
      "cell_type": "markdown",
      "source": [
        "**Remove from the Heap**"
      ],
      "metadata": {
        "id": "LHxJi7nIFtv_"
      }
    },
    {
      "cell_type": "markdown",
      "source": [
        "**Max Heap**"
      ],
      "metadata": {
        "id": "1fexWgAZFyVq"
      }
    },
    {
      "cell_type": "code",
      "source": [
        "def buildMaxHeapwithRemove(data):\n",
        "  data = buildMaxHeap(data)\n",
        "\n",
        "  print(f'Max Heap is: {data} before removing the element:{data[0]} ')\n",
        "  \n",
        "  data[0] = data[len(data)-1]\n",
        "  data.remove(data[len(data)-1])\n",
        "\n",
        "  heapLength = len(data)\n",
        "  mid = heapLength // 2\n",
        "  for  idx in range(mid-1,-1,-1):    \n",
        "    maxHeapify(data,heapLength,idx)\n",
        "\n",
        "  return data\n",
        "\n",
        "if __name__ == '__main__':\n",
        "  # print(f'Max Heap after the remove : {buildMaxHeapwithRemove([int(input(\"Input the heap elements\")) for idx in range(8)])}')\n",
        "  print(f'Max Heap after the remove : {buildMaxHeapwithRemove([random.randint(10,100) for idx in range(random.randint(10,15))])}')"
      ],
      "metadata": {
        "colab": {
          "base_uri": "https://localhost:8080/"
        },
        "id": "UYPuardmiAZn",
        "outputId": "dcd86bdc-97ae-406b-c64d-2c1df1b82410"
      },
      "execution_count": null,
      "outputs": [
        {
          "output_type": "stream",
          "name": "stdout",
          "text": [
            "Max Heap is: [70, 43, 68, 35, 27, 38, 64, 16, 34, 25] before removing the element:70 \n",
            "Max Heap after the remove : [68, 43, 64, 34, 38, 35, 16, 27, 25]\n"
          ]
        }
      ]
    },
    {
      "cell_type": "markdown",
      "source": [
        "**Min Heap**"
      ],
      "metadata": {
        "id": "3nlofLAbF3W2"
      }
    },
    {
      "cell_type": "code",
      "source": [
        "def buildMinHeapwithRemove(data):\n",
        "  data = buildMinHeap(data)\n",
        "\n",
        "  print(f'Min Heap is: {data} before removing the element:{data[0]} ')\n",
        "  \n",
        "  data[0] = data[len(data)-1]\n",
        "  data.remove(data[len(data)-1])\n",
        "\n",
        "  heapLength = len(data)\n",
        "  mid = heapLength // 2\n",
        "  for  idx in range(mid-1,-1,-1):    \n",
        "    minHeapify(data,heapLength,idx)\n",
        "\n",
        "  return data\n",
        "\n",
        "if __name__ == '__main__':\n",
        "  # print(f'Max Heap after the remove : {buildMaxHeapwithRemove([int(input(\"Input the heap elements\")) for idx in range(8)])}')\n",
        "  print(f'Min Heap after the remove : {buildMinHeapwithRemove([random.randint(10,100) for idx in range(random.randint(10,15))])}')"
      ],
      "metadata": {
        "colab": {
          "base_uri": "https://localhost:8080/"
        },
        "id": "lBJZ50g2EYvB",
        "outputId": "3dee2835-d0f1-4f03-8039-ef629989b503"
      },
      "execution_count": null,
      "outputs": [
        {
          "output_type": "stream",
          "name": "stdout",
          "text": [
            "Min Heap is: [21, 42, 40, 65, 50, 78, 50, 83, 77, 98] before removing the element:21 \n",
            "Min Heap after the remove : [40, 42, 50, 50, 78, 65, 83, 77, 98]\n"
          ]
        }
      ]
    }
  ]
}