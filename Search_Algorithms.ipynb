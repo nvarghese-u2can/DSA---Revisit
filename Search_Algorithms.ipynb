{
  "nbformat": 4,
  "nbformat_minor": 0,
  "metadata": {
    "colab": {
      "name": "Search Algorithms.ipynb",
      "provenance": [],
      "collapsed_sections": [],
      "authorship_tag": "ABX9TyPHuR5cxWQK3CiQ71ETJp9h"
    },
    "kernelspec": {
      "name": "python3",
      "display_name": "Python 3"
    },
    "language_info": {
      "name": "python"
    }
  },
  "cells": [
    {
      "cell_type": "markdown",
      "source": [
        "# Implementation of major search algorithms"
      ],
      "metadata": {
        "id": "8EF5P4vsJC-2"
      }
    },
    {
      "cell_type": "markdown",
      "source": [
        "**Linear Search**"
      ],
      "metadata": {
        "id": "F2qwSetXJLNw"
      }
    },
    {
      "cell_type": "code",
      "execution_count": 44,
      "metadata": {
        "id": "dpnBA2XCI5e2"
      },
      "outputs": [],
      "source": [
        "def linear_search(data,search_value):\n",
        "  print('input is ', data)\n",
        "\n",
        "  if not data:\n",
        "    return False\n",
        "  \n",
        "  for item in data:\n",
        "    if item == search_value:\n",
        "      return True\n",
        "    else:\n",
        "      continue\n",
        "\n",
        "  return False"
      ]
    },
    {
      "cell_type": "code",
      "source": [
        "linear_search([i for i in range(10)],3),linear_search([],1)"
      ],
      "metadata": {
        "colab": {
          "base_uri": "https://localhost:8080/"
        },
        "id": "Vqp0dDLvJhQz",
        "outputId": "5d340f84-7700-4f2d-c322-f25fe7a23a6d"
      },
      "execution_count": 45,
      "outputs": [
        {
          "output_type": "stream",
          "name": "stdout",
          "text": [
            "input is  [0, 1, 2, 3, 4, 5, 6, 7, 8, 9]\n",
            "input is  []\n"
          ]
        },
        {
          "output_type": "execute_result",
          "data": {
            "text/plain": [
              "(True, False)"
            ]
          },
          "metadata": {},
          "execution_count": 45
        }
      ]
    },
    {
      "cell_type": "markdown",
      "source": [
        "# Binary Search"
      ],
      "metadata": {
        "id": "4CLkHeH9hM_G"
      }
    },
    {
      "cell_type": "markdown",
      "source": [
        "Binary Search follows a divide-conquer approach to solve the search problem"
      ],
      "metadata": {
        "id": "cTTxgxU-pZGj"
      }
    },
    {
      "cell_type": "code",
      "source": [
        "def binary_search(data, search_value):\n",
        "\n",
        "  if not data:\n",
        "    return False\n",
        "\n",
        "  start,end = 0, len(data)- 1 \n",
        "\n",
        "  while start <= end:    \n",
        "    mid = ( start + end ) // 2\n",
        "\n",
        "    if data[mid] == search_value:      \n",
        "      if mid -1 >= 0 and data[mid-1] == search_value:\n",
        "        end = mid-1\n",
        "      else:        \n",
        "        print(f'search item found at position : {mid}')\n",
        "        return True  \n",
        "    elif data[mid] > search_value:\n",
        "      end = mid - 1\n",
        "    else:\n",
        "      start = mid + 1\n",
        "\n",
        "  print(f'searched item is not present in this list') \n",
        "  return False"
      ],
      "metadata": {
        "id": "9ZJL0aNrj1Lu"
      },
      "execution_count": 46,
      "outputs": []
    },
    {
      "cell_type": "code",
      "source": [
        "binary_search([1,2,2,3,4],12)"
      ],
      "metadata": {
        "colab": {
          "base_uri": "https://localhost:8080/"
        },
        "id": "kxUNd4bilc7-",
        "outputId": "0fbc54e8-789c-4c85-d2cc-e6751f9fbb83"
      },
      "execution_count": 47,
      "outputs": [
        {
          "output_type": "stream",
          "name": "stdout",
          "text": [
            "searched item is not present in this list\n"
          ]
        },
        {
          "output_type": "execute_result",
          "data": {
            "text/plain": [
              "False"
            ]
          },
          "metadata": {},
          "execution_count": 47
        }
      ]
    },
    {
      "cell_type": "code",
      "source": [
        "binary_search([i for i in range(10)],7)"
      ],
      "metadata": {
        "colab": {
          "base_uri": "https://localhost:8080/"
        },
        "id": "IPHTyLvdliag",
        "outputId": "2266cdd1-90d0-427a-d7ba-5d8090ad6dac"
      },
      "execution_count": 48,
      "outputs": [
        {
          "output_type": "stream",
          "name": "stdout",
          "text": [
            "search item found at position : 7\n"
          ]
        },
        {
          "output_type": "execute_result",
          "data": {
            "text/plain": [
              "True"
            ]
          },
          "metadata": {},
          "execution_count": 48
        }
      ]
    },
    {
      "cell_type": "markdown",
      "source": [
        "**Binary search with Recursion**"
      ],
      "metadata": {
        "id": "jgvzzQTUuiCM"
      }
    },
    {
      "cell_type": "code",
      "source": [
        "def binary_search_recursion(data,search_value,start = 0,end = 0):\n",
        "  \n",
        "  if not data:\n",
        "    return False\n",
        " \n",
        "  while start <= end:\n",
        "    mid = (start + end ) // 2\n",
        "    if data[mid] == search_value:\n",
        "      if mid-1 >= 0 and data[mid-1] == search_value:\n",
        "        end = mid - 1\n",
        "        return binary_search_recursion(data,search_value,start,end)\n",
        "      else:\n",
        "        print(f'element found at position : {mid}')\n",
        "        return True\n",
        "    elif data[mid] > search_value:\n",
        "      end = mid - 1\n",
        "      return binary_search_recursion(data,search_value,start,end)\n",
        "    else:\n",
        "      start = mid + 1\n",
        "      return binary_search_recursion(data,search_value,start,end)\n",
        "\n",
        "  print (f'search element not present in the list')\n",
        "  return False"
      ],
      "metadata": {
        "id": "DaEPKAx5rVh0"
      },
      "execution_count": 49,
      "outputs": []
    },
    {
      "cell_type": "code",
      "source": [
        "binary_search_recursion([i for i in range(10)],18,0,9)"
      ],
      "metadata": {
        "colab": {
          "base_uri": "https://localhost:8080/"
        },
        "id": "YmMLILKYreJt",
        "outputId": "3e7c4b8c-a1bb-41b1-af90-cd53ae5af210"
      },
      "execution_count": 50,
      "outputs": [
        {
          "output_type": "stream",
          "name": "stdout",
          "text": [
            "search element not present in the list\n"
          ]
        },
        {
          "output_type": "execute_result",
          "data": {
            "text/plain": [
              "False"
            ]
          },
          "metadata": {},
          "execution_count": 50
        }
      ]
    },
    {
      "cell_type": "code",
      "source": [
        "binary_search_recursion([i for i in range(10)],2,0,9)"
      ],
      "metadata": {
        "colab": {
          "base_uri": "https://localhost:8080/"
        },
        "id": "sx0GjofdtVN1",
        "outputId": "6dc18ba0-293b-4ecf-e19f-5613e140bbf8"
      },
      "execution_count": 51,
      "outputs": [
        {
          "output_type": "stream",
          "name": "stdout",
          "text": [
            "element found at position : 2\n"
          ]
        },
        {
          "output_type": "execute_result",
          "data": {
            "text/plain": [
              "True"
            ]
          },
          "metadata": {},
          "execution_count": 51
        }
      ]
    },
    {
      "cell_type": "code",
      "source": [
        "\n",
        "def hash(search):\n",
        "  return search % 3\n",
        "\n",
        "def load_hash_table(data):\n",
        "  hash_table = {}\n",
        "  for item in data:\n",
        "    key  = hash(item)\n",
        "    if key not in hash_table:\n",
        "      hash_table[key] = []\n",
        "\n",
        "    hash_table[key].append(item)\n",
        "\n",
        "  return hash_table\n",
        "\n",
        "def hash_search(hash_table,search):\n",
        "  \n",
        "  key = hash(search)\n",
        "  \n",
        "  if search not in hash_table[key]:\n",
        "    return False\n",
        "  else:\n",
        "    return True     "
      ],
      "metadata": {
        "id": "4vVAVYp8vBwY"
      },
      "execution_count": 52,
      "outputs": []
    },
    {
      "cell_type": "code",
      "source": [
        "load_hash_table([i for i in range(10)])"
      ],
      "metadata": {
        "colab": {
          "base_uri": "https://localhost:8080/"
        },
        "id": "ji_vXoLP0SDI",
        "outputId": "b0fc9009-f4fd-46da-c633-71b88f98c5e9"
      },
      "execution_count": 53,
      "outputs": [
        {
          "output_type": "execute_result",
          "data": {
            "text/plain": [
              "{0: [0, 3, 6, 9], 1: [1, 4, 7], 2: [2, 5, 8]}"
            ]
          },
          "metadata": {},
          "execution_count": 53
        }
      ]
    },
    {
      "cell_type": "code",
      "source": [
        "hash_table = load_hash_table([i for i in range(10)])\n",
        "# hash_search(load_hash_table([i for i in range(10)]),5)\n",
        "hash_search(hash_table,5),hash_search(hash_table,15)"
      ],
      "metadata": {
        "colab": {
          "base_uri": "https://localhost:8080/"
        },
        "id": "Iy-_pXKezd9K",
        "outputId": "0d9f4405-3377-4f97-a2fa-0a30483617b4"
      },
      "execution_count": 54,
      "outputs": [
        {
          "output_type": "execute_result",
          "data": {
            "text/plain": [
              "(True, False)"
            ]
          },
          "metadata": {},
          "execution_count": 54
        }
      ]
    },
    {
      "cell_type": "code",
      "source": [
        ""
      ],
      "metadata": {
        "id": "9geSg96hzpYd"
      },
      "execution_count": 54,
      "outputs": []
    }
  ]
}