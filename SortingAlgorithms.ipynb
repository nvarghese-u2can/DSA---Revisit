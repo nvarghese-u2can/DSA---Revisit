{
  "nbformat": 4,
  "nbformat_minor": 0,
  "metadata": {
    "colab": {
      "name": "SortingAlgorithms.ipynb",
      "provenance": [],
      "collapsed_sections": [],
      "authorship_tag": "ABX9TyOIQqHuWmpze8AGUJru0W64"
    },
    "kernelspec": {
      "name": "python3",
      "display_name": "Python 3"
    },
    "language_info": {
      "name": "python"
    }
  },
  "cells": [
    {
      "cell_type": "markdown",
      "source": [
        "Author : Nelson Vithayathil Varghese\n",
        "\n",
        "This file has various problems that utilize the Dynamic Programming technique - Memoization "
      ],
      "metadata": {
        "id": "DiOde8_6j8_V"
      }
    },
    {
      "cell_type": "markdown",
      "source": [
        "# Sorting Algorithms"
      ],
      "metadata": {
        "id": "-ViSxTmIkGpR"
      }
    },
    {
      "cell_type": "markdown",
      "source": [
        "**Bubble Sort**"
      ],
      "metadata": {
        "id": "VNQV_L-9kJ0G"
      }
    },
    {
      "cell_type": "code",
      "source": [
        "import random"
      ],
      "metadata": {
        "id": "HmzVlqgwr1I0"
      },
      "execution_count": 33,
      "outputs": []
    },
    {
      "cell_type": "code",
      "execution_count": 34,
      "metadata": {
        "colab": {
          "base_uri": "https://localhost:8080/"
        },
        "id": "4tFzGB_5j3l5",
        "outputId": "1c8fa457-daa6-4fdc-fac6-a6830af2608f"
      },
      "outputs": [
        {
          "output_type": "stream",
          "name": "stdout",
          "text": [
            "input data : [96, 30, 74, 3, 4, 34, 9, 78, 98, 91]\n",
            "\n",
            "\n",
            "Current value of data : [30, 74, 3, 4, 34, 9, 78, 96, 91, 98]\n",
            "Current value of data : [30, 3, 4, 34, 9, 74, 78, 91, 96, 98]\n",
            "Current value of data : [3, 4, 30, 9, 34, 74, 78, 91, 96, 98]\n",
            "Current value of data : [3, 4, 9, 30, 34, 74, 78, 91, 96, 98]\n",
            "Current value of data : [3, 4, 9, 30, 34, 74, 78, 91, 96, 98]\n",
            "Current value of data : [3, 4, 9, 30, 34, 74, 78, 91, 96, 98]\n",
            "Current value of data : [3, 4, 9, 30, 34, 74, 78, 91, 96, 98]\n",
            "Current value of data : [3, 4, 9, 30, 34, 74, 78, 91, 96, 98]\n",
            "Current value of data : [3, 4, 9, 30, 34, 74, 78, 91, 96, 98]\n",
            "\n",
            "\n",
            "sorted data is : [3, 4, 9, 30, 34, 74, 78, 91, 96, 98]\n"
          ]
        }
      ],
      "source": [
        "def bubbleSort(data):\n",
        "  if not data:\n",
        "    return None\n",
        "  for _ in range(len(data)-1):\n",
        "    \n",
        "    for index in range(len(data) - 1):\n",
        "      if data[index] > data[index + 1]:\n",
        "        data[index], data[index + 1] =  data[index + 1], data[index]\n",
        "\n",
        "    print(f'Current value of data : {data}')\n",
        "    \n",
        "  return data\n",
        "\n",
        "if __name__ == '__main__':  \n",
        "  data =  [ random.randint(1,100) for x in range(10) ]\n",
        "  print(f'input data : {data}\\n\\n')   \n",
        "  print(f'\\n\\nsorted data is : {bubbleSort(data)}')"
      ]
    },
    {
      "cell_type": "code",
      "source": [
        ""
      ],
      "metadata": {
        "id": "O6K27qAOk5Pa"
      },
      "execution_count": 34,
      "outputs": []
    },
    {
      "cell_type": "markdown",
      "source": [
        "**Insertion Sort**"
      ],
      "metadata": {
        "id": "4Br45bUnuDql"
      }
    },
    {
      "cell_type": "code",
      "source": [
        "def insertionSort(data): \n",
        "\n",
        "  for index in range(1,len(data)):  \n",
        "  # for index in range(len(data)):\n",
        "    key = data[index]\n",
        "    arr_idx = index - 1\n",
        "\n",
        "    while arr_idx >= 0 and data[arr_idx] > key:\n",
        "      data[arr_idx + 1] = data[arr_idx]\n",
        "      arr_idx -= 1\n",
        "\n",
        "    data[arr_idx + 1] = key\n",
        "    \n",
        "    print(f'current data is : {data}')\n",
        "\n",
        "  return data\n",
        "\n",
        "if __name__ == '__main__':  \n",
        "  data =  [ random.randint(1,100) for x in range(10) ]\n",
        "  print(f'input data : {data}\\n\\n')   \n",
        "  print(f'\\n\\nsorted data is : {insertionSort(data)}')"
      ],
      "metadata": {
        "colab": {
          "base_uri": "https://localhost:8080/"
        },
        "id": "RTyXZDJ5o0gf",
        "outputId": "e96e2233-6bb7-4adb-b2fd-44910e2deaf5"
      },
      "execution_count": 35,
      "outputs": [
        {
          "output_type": "stream",
          "name": "stdout",
          "text": [
            "input data : [55, 33, 20, 54, 4, 9, 55, 53, 16, 90]\n",
            "\n",
            "\n",
            "current data is : [33, 55, 20, 54, 4, 9, 55, 53, 16, 90]\n",
            "current data is : [20, 33, 55, 54, 4, 9, 55, 53, 16, 90]\n",
            "current data is : [20, 33, 54, 55, 4, 9, 55, 53, 16, 90]\n",
            "current data is : [4, 20, 33, 54, 55, 9, 55, 53, 16, 90]\n",
            "current data is : [4, 9, 20, 33, 54, 55, 55, 53, 16, 90]\n",
            "current data is : [4, 9, 20, 33, 54, 55, 55, 53, 16, 90]\n",
            "current data is : [4, 9, 20, 33, 53, 54, 55, 55, 16, 90]\n",
            "current data is : [4, 9, 16, 20, 33, 53, 54, 55, 55, 90]\n",
            "current data is : [4, 9, 16, 20, 33, 53, 54, 55, 55, 90]\n",
            "\n",
            "\n",
            "sorted data is : [4, 9, 16, 20, 33, 53, 54, 55, 55, 90]\n"
          ]
        }
      ]
    },
    {
      "cell_type": "markdown",
      "source": [
        "**Merge Sort - Using the Divide --Conquer Approach**"
      ],
      "metadata": {
        "id": "kKg2ZXMXVFOK"
      }
    },
    {
      "cell_type": "code",
      "source": [
        "def merge(leftData,rightData):\n",
        "\n",
        "  leftIndex,rightIndex = 0,0\n",
        "  result = []\n",
        "\n",
        "  while leftIndex < len( leftData) and rightIndex < len(rightData):\n",
        "\n",
        "    if leftData [leftIndex] < rightData[rightIndex]:\n",
        "      result.append(leftData[leftIndex])\n",
        "      leftIndex += 1\n",
        "\n",
        "    else:\n",
        "      result.append(rightData[rightIndex])\n",
        "      rightIndex += 1\n",
        "\n",
        "  result = result +  leftData[leftIndex:] + rightData[rightIndex:]  \n",
        "  \n",
        "  return result\n",
        "\n",
        "\n",
        "def mergeSort(data):\n",
        "\n",
        "  if len(data) <= 1:\n",
        "    return data\n",
        "  \n",
        "  mid = len(data) // 2\n",
        "\n",
        "  left = data[:mid]\n",
        "  right = data[mid:]\n",
        "\n",
        "  left_mergeSort,right_mergeSort = mergeSort(left),mergeSort(right) \n",
        "\n",
        "  sorted_result = merge(left_mergeSort,right_mergeSort)\n",
        "\n",
        "  return sorted_result\n",
        "\n",
        "if __name__ == '__main__':  \n",
        "  data =  [ random.randint(1,100) for x in range(10) ]\n",
        "  print(f'input data : {data}\\n\\n')   \n",
        "  print(f'sorted data is : {mergeSort(data)}')"
      ],
      "metadata": {
        "colab": {
          "base_uri": "https://localhost:8080/"
        },
        "id": "4Kebu0pjxhra",
        "outputId": "799c2844-d493-4748-8cec-4e9371187a92"
      },
      "execution_count": 36,
      "outputs": [
        {
          "output_type": "stream",
          "name": "stdout",
          "text": [
            "input data : [100, 19, 96, 67, 85, 1, 26, 58, 23, 94]\n",
            "\n",
            "\n",
            "sorted data is : [1, 19, 23, 26, 58, 67, 85, 94, 96, 100]\n"
          ]
        }
      ]
    },
    {
      "cell_type": "markdown",
      "source": [
        "**QuickSort**"
      ],
      "metadata": {
        "id": "JV6v787wKUuk"
      }
    },
    {
      "cell_type": "code",
      "source": [
        "def partition(data,start,end):\n",
        "\n",
        "  if end == None:\n",
        "    end = len(data) - 1\n",
        "  \n",
        "  i, j = start, end - 1\n",
        "\n",
        "  while i < j:\n",
        "\n",
        "    if data[i] < data[end]:\n",
        "      i += 1\n",
        "    elif data[j] > data[end]:\n",
        "      j -= 1\n",
        "    else:\n",
        "      data[i],data[j] = data[j],data[i]\n",
        "\n",
        "  if data[i] > data[end]:\n",
        "    data[i],data[end] = data[end],data[i]\n",
        "    return i\n",
        "  else:\n",
        "    return end\n",
        "\n",
        "  \n",
        "def quickSort(data,start = 0, end = None):\n",
        "\n",
        "  if end == None:\n",
        "    end = len(data) - 1    \n",
        "\n",
        "  if start < end:\n",
        "    pivot = partition(data,start,end)\n",
        "    print(f'pivot index : {pivot}') \n",
        "    quickSort(data,start,pivot - 1)\n",
        "    quickSort(data,pivot + 1,end)\n",
        "\n",
        "  return data\n",
        "\n",
        "if __name__ == '__main__':  \n",
        "  data =  [ random.randint(1,100) for x in range(10) ]\n",
        "  print(f'input data : {data}\\n\\n')   \n",
        "  print(f'sorted data is : {quickSort(data)}')"
      ],
      "metadata": {
        "id": "uO-glW0tX3Kh",
        "colab": {
          "base_uri": "https://localhost:8080/"
        },
        "outputId": "074dc100-62df-4201-d2f2-168b076798ee"
      },
      "execution_count": 37,
      "outputs": [
        {
          "output_type": "stream",
          "name": "stdout",
          "text": [
            "input data : [8, 41, 27, 47, 50, 3, 56, 75, 40, 30]\n",
            "\n",
            "\n",
            "pivot index : 3\n",
            "pivot index : 2\n",
            "pivot index : 0\n",
            "pivot index : 6\n",
            "pivot index : 5\n",
            "pivot index : 8\n",
            "sorted data is : [3, 8, 27, 30, 40, 41, 47, 50, 56, 75]\n"
          ]
        }
      ]
    },
    {
      "cell_type": "markdown",
      "source": [
        "**Bucket Sort**"
      ],
      "metadata": {
        "id": "vmIWXvpLag8s"
      }
    },
    {
      "cell_type": "code",
      "source": [
        "def insertion_sort(data):\n",
        "\n",
        "  for idx in range(1, len(data)):\n",
        "    key = data[idx]\n",
        "    j = idx - 1\n",
        "\n",
        "    while j >= 0 and data[j] > key:\n",
        "      data[j + 1] = data[j]\n",
        "      j -= 1\n",
        "    data[j+1] = key\n",
        "\n",
        "  return data"
      ],
      "metadata": {
        "id": "zCn3w-1XmQX9"
      },
      "execution_count": 38,
      "outputs": []
    },
    {
      "cell_type": "code",
      "source": [
        "insertion_sort([])"
      ],
      "metadata": {
        "colab": {
          "base_uri": "https://localhost:8080/"
        },
        "id": "x_ArrS92mR3D",
        "outputId": "81e42a15-c39e-4e9c-ff3b-a5930178cc99"
      },
      "execution_count": 39,
      "outputs": [
        {
          "output_type": "execute_result",
          "data": {
            "text/plain": [
              "[]"
            ]
          },
          "metadata": {},
          "execution_count": 39
        }
      ]
    },
    {
      "cell_type": "code",
      "source": [
        "import random\n",
        "\n",
        "def insertion_sort(data):\n",
        "\n",
        "  for idx in range(1, len(data)):\n",
        "    key = data[idx]\n",
        "    j = idx - 1\n",
        "\n",
        "    while j >= 0 and data[j] > key:\n",
        "      data[j + 1] = data[j]\n",
        "      j -= 1\n",
        "    data[j+1] = key\n",
        "\n",
        "  return data\n",
        "\n",
        "\n",
        "\n",
        "def bucketSort(data):\n",
        "  data_copy = []\n",
        "  result = []\n",
        "\n",
        "  for idx in range(10):\n",
        "    data_copy.append([])\n",
        "\n",
        "  for idx in range(len(data)):\n",
        "    loc = int(data[idx] * 10)\n",
        "    data_copy[loc].append(data[idx])  \n",
        "  \n",
        "  for idx in range(10):\n",
        "    data_copy[idx] = insertion_sort(data_copy[idx])\n",
        " \n",
        "  \n",
        "  k= 0\n",
        "  for idx in range(10):    \n",
        "    for sub_idx in range(len(data_copy[idx])):\n",
        "      data[k] = data_copy[idx][sub_idx]\n",
        "      k += 1\n",
        "\n",
        "  return data\n",
        "\n",
        "if __name__ == '__main__':\n",
        "  data = [round(random.random(),2) for _ in range(10)]  \n",
        "  print(f'input data: {data} ')\n",
        "  print(f'\\n\\nSorted result is :{bucketSort(data)}')  "
      ],
      "metadata": {
        "colab": {
          "base_uri": "https://localhost:8080/"
        },
        "id": "rdKqAZ7nNtKU",
        "outputId": "bf044898-30f7-4603-a38a-2814343723cd"
      },
      "execution_count": 53,
      "outputs": [
        {
          "output_type": "stream",
          "name": "stdout",
          "text": [
            "input data: [0.28, 0.32, 0.02, 0.47, 0.29, 0.2, 0.3, 0.35, 0.45, 0.37] \n",
            "\n",
            "\n",
            "Sorted result is :[0.02, 0.2, 0.28, 0.29, 0.3, 0.32, 0.35, 0.37, 0.45, 0.47]\n"
          ]
        }
      ]
    },
    {
      "cell_type": "code",
      "source": [
        ""
      ],
      "metadata": {
        "id": "IqNyV7G_lbKe"
      },
      "execution_count": null,
      "outputs": []
    }
  ]
}