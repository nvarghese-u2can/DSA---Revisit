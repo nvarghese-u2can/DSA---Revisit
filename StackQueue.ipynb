{
  "nbformat": 4,
  "nbformat_minor": 0,
  "metadata": {
    "colab": {
      "name": "StackQueue.ipynb",
      "provenance": [],
      "collapsed_sections": [],
      "authorship_tag": "ABX9TyPyqcv0o4xwsVcCIuJ5Hq1i",
      "include_colab_link": true
    },
    "kernelspec": {
      "name": "python3",
      "display_name": "Python 3"
    },
    "language_info": {
      "name": "python"
    }
  },
  "cells": [
    {
      "cell_type": "markdown",
      "metadata": {
        "id": "view-in-github",
        "colab_type": "text"
      },
      "source": [
        "<a href=\"https://colab.research.google.com/github/nvarghese-u2can/DSA---Revisit/blob/main/StackQueue.ipynb\" target=\"_parent\"><img src=\"https://colab.research.google.com/assets/colab-badge.svg\" alt=\"Open In Colab\"/></a>"
      ]
    },
    {
      "cell_type": "markdown",
      "source": [
        "Author : Nelson Vithayathil Varghese\n",
        "\n",
        "This file has the implementation of stack and queue data structures\n"
      ],
      "metadata": {
        "id": "GqDNdzzEhFvz"
      }
    },
    {
      "cell_type": "code",
      "execution_count": null,
      "metadata": {
        "id": "mHxxyQIPhA5R"
      },
      "outputs": [],
      "source": [
        "class Stack:\n",
        "\n",
        "  def __init__(self):\n",
        "    self.data = []\n",
        "  \n",
        "  def push(self,item):\n",
        "    self.data.append(item)\n",
        "  \n",
        "  def pop(self):\n",
        "    return self.data.pop()\n",
        "\n",
        "  def isStackEmpty(self):\n",
        "    return self.data == []\n",
        "\n",
        "  def stackSize(self):\n",
        "    return len(self.data)  \n",
        "\n",
        "  def stackPeek(self):\n",
        "    return self.data[len(self.data) - 1]"
      ]
    },
    {
      "cell_type": "code",
      "source": [
        "stack = Stack()\n",
        "stack.push(1)\n",
        "stack.push(2)\n",
        "stack.push(3)\n",
        "stack.stackSize()"
      ],
      "metadata": {
        "colab": {
          "base_uri": "https://localhost:8080/"
        },
        "id": "P7_OAW8rhywy",
        "outputId": "dfd6d5a1-8aef-4bfe-e736-d66df1c67fe7"
      },
      "execution_count": null,
      "outputs": [
        {
          "output_type": "execute_result",
          "data": {
            "text/plain": [
              "3"
            ]
          },
          "metadata": {},
          "execution_count": 16
        }
      ]
    },
    {
      "cell_type": "code",
      "source": [
        "stack.stackPeek()"
      ],
      "metadata": {
        "colab": {
          "base_uri": "https://localhost:8080/"
        },
        "id": "5-gPJF7lpx3c",
        "outputId": "f963cdbc-b005-470f-8c97-49e83162dbe5"
      },
      "execution_count": null,
      "outputs": [
        {
          "output_type": "execute_result",
          "data": {
            "text/plain": [
              "3"
            ]
          },
          "metadata": {},
          "execution_count": 17
        }
      ]
    },
    {
      "cell_type": "code",
      "source": [
        "stack.pop()"
      ],
      "metadata": {
        "colab": {
          "base_uri": "https://localhost:8080/"
        },
        "id": "lGmdiPoOpmFW",
        "outputId": "e08c713e-2b56-45cc-b2da-4e448085ded8"
      },
      "execution_count": null,
      "outputs": [
        {
          "output_type": "execute_result",
          "data": {
            "text/plain": [
              "3"
            ]
          },
          "metadata": {},
          "execution_count": 18
        }
      ]
    },
    {
      "cell_type": "code",
      "source": [
        "stack.stackSize()"
      ],
      "metadata": {
        "colab": {
          "base_uri": "https://localhost:8080/"
        },
        "id": "dnQXdxmdp483",
        "outputId": "29835854-8635-4979-c4bd-072b71615e95"
      },
      "execution_count": null,
      "outputs": [
        {
          "output_type": "execute_result",
          "data": {
            "text/plain": [
              "2"
            ]
          },
          "metadata": {},
          "execution_count": 19
        }
      ]
    },
    {
      "cell_type": "code",
      "source": [
        "stack.isStackEmpty()"
      ],
      "metadata": {
        "colab": {
          "base_uri": "https://localhost:8080/"
        },
        "id": "WPOMM1fGpZFs",
        "outputId": "8e5282c7-8ace-42b0-cb30-402b1fec84af"
      },
      "execution_count": null,
      "outputs": [
        {
          "output_type": "execute_result",
          "data": {
            "text/plain": [
              "False"
            ]
          },
          "metadata": {},
          "execution_count": 20
        }
      ]
    },
    {
      "cell_type": "markdown",
      "source": [
        ""
      ],
      "metadata": {
        "id": "Id22VwUyhEym"
      }
    },
    {
      "cell_type": "code",
      "source": [
        "class Queue:\n",
        "\n",
        "  def __init__(self):\n",
        "    self.data = []\n",
        "\n",
        "  def inserIntotQueue(self,data):\n",
        "    self.data.append(data)\n",
        "  \n",
        "  def removeFromQueue(self):\n",
        "    return self.data.pop(0)\n",
        "  \n",
        "  def queueSize(self):\n",
        "    return len(self.data)\n",
        "  \n",
        "  def queueEmpty(self):\n",
        "    return self.data == []\n",
        "\n",
        "  def queuePeek(self):    \n",
        "    return self.data[0]"
      ],
      "metadata": {
        "id": "2VTmiEExStUI"
      },
      "execution_count": 1,
      "outputs": []
    },
    {
      "cell_type": "code",
      "source": [
        "queue = Queue()\n",
        "queue.inserIntotQueue(1)\n",
        "queue.inserIntotQueue(2)\n",
        "queue.inserIntotQueue(3)"
      ],
      "metadata": {
        "id": "Ua3CrEUele62"
      },
      "execution_count": 3,
      "outputs": []
    },
    {
      "cell_type": "code",
      "source": [
        "queue.queueSize()"
      ],
      "metadata": {
        "colab": {
          "base_uri": "https://localhost:8080/"
        },
        "id": "KAkhe_wYlg3h",
        "outputId": "e3ed23e6-be61-4c28-bd61-9b77e9cd201d"
      },
      "execution_count": 4,
      "outputs": [
        {
          "output_type": "execute_result",
          "data": {
            "text/plain": [
              "3"
            ]
          },
          "metadata": {},
          "execution_count": 4
        }
      ]
    },
    {
      "cell_type": "code",
      "source": [
        "queue.queueEmpty()"
      ],
      "metadata": {
        "colab": {
          "base_uri": "https://localhost:8080/"
        },
        "id": "Zn8Q9Nc-lpuT",
        "outputId": "3ea0934c-f332-4027-c90c-99a1c13560c4"
      },
      "execution_count": 5,
      "outputs": [
        {
          "output_type": "execute_result",
          "data": {
            "text/plain": [
              "False"
            ]
          },
          "metadata": {},
          "execution_count": 5
        }
      ]
    },
    {
      "cell_type": "code",
      "source": [
        "queue.queuePeek()"
      ],
      "metadata": {
        "colab": {
          "base_uri": "https://localhost:8080/"
        },
        "id": "aluESwjjlsqP",
        "outputId": "866e5ab6-8b47-41d6-c325-1f4bbfc8b404"
      },
      "execution_count": 6,
      "outputs": [
        {
          "output_type": "execute_result",
          "data": {
            "text/plain": [
              "1"
            ]
          },
          "metadata": {},
          "execution_count": 6
        }
      ]
    },
    {
      "cell_type": "code",
      "source": [
        "queue.removeFromQueue()"
      ],
      "metadata": {
        "colab": {
          "base_uri": "https://localhost:8080/"
        },
        "id": "0Ut4YoHLluy1",
        "outputId": "6a3986c0-0158-4be9-ac04-2b2086e98793"
      },
      "execution_count": 7,
      "outputs": [
        {
          "output_type": "execute_result",
          "data": {
            "text/plain": [
              "1"
            ]
          },
          "metadata": {},
          "execution_count": 7
        }
      ]
    },
    {
      "cell_type": "code",
      "source": [
        "queue.removeFromQueue()"
      ],
      "metadata": {
        "colab": {
          "base_uri": "https://localhost:8080/"
        },
        "id": "QGSmW1PHl1Kj",
        "outputId": "54864cec-b094-4dc7-b8fc-8fad6b93651e"
      },
      "execution_count": 8,
      "outputs": [
        {
          "output_type": "execute_result",
          "data": {
            "text/plain": [
              "2"
            ]
          },
          "metadata": {},
          "execution_count": 8
        }
      ]
    },
    {
      "cell_type": "code",
      "source": [
        "queue.removeFromQueue()"
      ],
      "metadata": {
        "colab": {
          "base_uri": "https://localhost:8080/"
        },
        "id": "eB_BoAqyl3uF",
        "outputId": "1772c6c0-983a-4c9f-cbe2-579225412ba1"
      },
      "execution_count": 9,
      "outputs": [
        {
          "output_type": "execute_result",
          "data": {
            "text/plain": [
              "3"
            ]
          },
          "metadata": {},
          "execution_count": 9
        }
      ]
    },
    {
      "cell_type": "code",
      "source": [
        "queue.queueEmpty()"
      ],
      "metadata": {
        "colab": {
          "base_uri": "https://localhost:8080/"
        },
        "id": "bAcyjCsBl5wz",
        "outputId": "0cc7df68-124d-4d0a-8500-8a10d97202a8"
      },
      "execution_count": 10,
      "outputs": [
        {
          "output_type": "execute_result",
          "data": {
            "text/plain": [
              "True"
            ]
          },
          "metadata": {},
          "execution_count": 10
        }
      ]
    },
    {
      "cell_type": "code",
      "source": [
        ""
      ],
      "metadata": {
        "id": "aeDpPGXHl8Az"
      },
      "execution_count": null,
      "outputs": []
    }
  ]
}