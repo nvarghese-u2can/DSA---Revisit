{
  "nbformat": 4,
  "nbformat_minor": 0,
  "metadata": {
    "colab": {
      "name": "LinkedList.ipynb",
      "provenance": [],
      "collapsed_sections": [],
      "authorship_tag": "ABX9TyOgBToiUoGGpKLhbIil5YJC",
      "include_colab_link": true
    },
    "kernelspec": {
      "name": "python3",
      "display_name": "Python 3"
    },
    "language_info": {
      "name": "python"
    }
  },
  "cells": [
    {
      "cell_type": "markdown",
      "metadata": {
        "id": "view-in-github",
        "colab_type": "text"
      },
      "source": [
        "<a href=\"https://colab.research.google.com/github/nvarghese-u2can/DSA---Revisit/blob/main/LinkedList.ipynb\" target=\"_parent\"><img src=\"https://colab.research.google.com/assets/colab-badge.svg\" alt=\"Open In Colab\"/></a>"
      ]
    },
    {
      "cell_type": "markdown",
      "source": [
        "Author : Nelson Vithayathil Varghese\n",
        "\n",
        "This is a file related with linked list related problems"
      ],
      "metadata": {
        "id": "_vaHbyqW_43R"
      }
    },
    {
      "cell_type": "markdown",
      "source": [
        "Key Terminologies \n",
        "\n",
        "Head Node, Tail Node , Current Node"
      ],
      "metadata": {
        "id": "g_cd8l3GALX3"
      }
    },
    {
      "cell_type": "markdown",
      "source": [
        "# Multiple problems related to the linked list"
      ],
      "metadata": {
        "id": "h4eZiLv8Yv_O"
      }
    },
    {
      "cell_type": "code",
      "source": [
        "class Node:\n",
        "  def __init__(self,value):\n",
        "    self.value = value\n",
        "    self.next = None"
      ],
      "metadata": {
        "id": "jtJKcAuU__3D"
      },
      "execution_count": 20,
      "outputs": []
    },
    {
      "cell_type": "code",
      "source": [
        "a = Node(1)\n",
        "b = Node(2)\n",
        "c = Node(3)\n",
        "d = Node(4)\n",
        "e = Node(5)\n",
        "a.next = b\n",
        "b.next = c\n",
        "c.next = d\n",
        "# d.next = None"
      ],
      "metadata": {
        "id": "oWr40IH_AREr"
      },
      "execution_count": 21,
      "outputs": []
    },
    {
      "cell_type": "code",
      "source": [
        "def ll_traverse(head):\n",
        "  if not head:\n",
        "    return None\n",
        "  current = head\n",
        "  while current != None:\n",
        "    print(current.value)\n",
        "    current = current.next\n",
        "    \n",
        "ll_traverse(a)"
      ],
      "metadata": {
        "colab": {
          "base_uri": "https://localhost:8080/"
        },
        "id": "rh-vYpQdAbYr",
        "outputId": "13a14d55-9bf7-4978-de85-74f062860d8c"
      },
      "execution_count": 22,
      "outputs": [
        {
          "output_type": "stream",
          "name": "stdout",
          "text": [
            "1\n",
            "2\n",
            "3\n",
            "4\n"
          ]
        }
      ]
    },
    {
      "cell_type": "code",
      "source": [
        "def ll_traverse_rec(head):\n",
        "  if not head:\n",
        "    return None\n",
        "  print( head.value)\n",
        "  return ll_traverse_rec(head.next)"
      ],
      "metadata": {
        "id": "yt9EWNjXA925"
      },
      "execution_count": 23,
      "outputs": []
    },
    {
      "cell_type": "code",
      "source": [
        "ll_traverse_rec(a)"
      ],
      "metadata": {
        "colab": {
          "base_uri": "https://localhost:8080/"
        },
        "id": "E35Q8csdB0oT",
        "outputId": "b4329f0a-409d-4c0b-fc66-972d622617ec"
      },
      "execution_count": 24,
      "outputs": [
        {
          "output_type": "stream",
          "name": "stdout",
          "text": [
            "1\n",
            "2\n",
            "3\n",
            "4\n"
          ]
        }
      ]
    },
    {
      "cell_type": "code",
      "source": [
        "def ll_traverse_rec_list(head,result = []):\n",
        "  if not head:\n",
        "    return result\n",
        "  result.append(head.value)\n",
        "  return ll_traverse_rec(head.next)"
      ],
      "metadata": {
        "id": "4gJu3MZYB5jO"
      },
      "execution_count": 25,
      "outputs": []
    },
    {
      "cell_type": "code",
      "source": [
        "ll_traverse_rec_list(a)"
      ],
      "metadata": {
        "colab": {
          "base_uri": "https://localhost:8080/"
        },
        "id": "_ikh-NqzCjEe",
        "outputId": "8f7ddaaf-a902-4330-aaf5-027ac85240ac"
      },
      "execution_count": 26,
      "outputs": [
        {
          "output_type": "stream",
          "name": "stdout",
          "text": [
            "2\n",
            "3\n",
            "4\n"
          ]
        }
      ]
    },
    {
      "cell_type": "code",
      "source": [
        "def ll_sum_nodes(head,result = 0):\n",
        "  if not head:\n",
        "    return result\n",
        "  result += head.value\n",
        "  return ll_sum_nodes(head.next,result)"
      ],
      "metadata": {
        "id": "CwgyZzNECkvC"
      },
      "execution_count": 27,
      "outputs": []
    },
    {
      "cell_type": "code",
      "source": [
        "ll_sum_nodes(a)"
      ],
      "metadata": {
        "colab": {
          "base_uri": "https://localhost:8080/"
        },
        "id": "zWg2EyYZDKFc",
        "outputId": "262b165e-2677-43e3-f182-47863ab07e24"
      },
      "execution_count": 28,
      "outputs": [
        {
          "output_type": "execute_result",
          "data": {
            "text/plain": [
              "10"
            ]
          },
          "metadata": {},
          "execution_count": 28
        }
      ]
    },
    {
      "cell_type": "code",
      "source": [
        "def ll_find_node(head,search_value):\n",
        "  if not head:\n",
        "    return False\n",
        "  if head.value == search_value:\n",
        "    return True\n",
        "  else:\n",
        "    return ll_find_node(head.next,search_value)  "
      ],
      "metadata": {
        "id": "vmITf1b7DL1M"
      },
      "execution_count": 29,
      "outputs": []
    },
    {
      "cell_type": "code",
      "source": [
        "ll_find_node(a,4),ll_find_node(a,44)"
      ],
      "metadata": {
        "colab": {
          "base_uri": "https://localhost:8080/"
        },
        "id": "IfNkel5yDsAP",
        "outputId": "00c727a1-a5ea-41f0-ba50-9e23879c7fd8"
      },
      "execution_count": 30,
      "outputs": [
        {
          "output_type": "execute_result",
          "data": {
            "text/plain": [
              "(True, False)"
            ]
          },
          "metadata": {},
          "execution_count": 30
        }
      ]
    },
    {
      "cell_type": "code",
      "source": [
        "def ll_find_node_index(head,search_index,count_index = 0):\n",
        "  \n",
        "  if not head:\n",
        "    return False\n",
        "\n",
        "  if search_index == count_index:\n",
        "    return head.value\n",
        "  \n",
        "  head = head.next\n",
        "  count_index += 1\n",
        "\n",
        "  return ll_find_node_index(head,search_index,count_index)"
      ],
      "metadata": {
        "id": "KsLrcSGdDwXA"
      },
      "execution_count": 31,
      "outputs": []
    },
    {
      "cell_type": "code",
      "source": [
        "ll_find_node_index(a,3)"
      ],
      "metadata": {
        "colab": {
          "base_uri": "https://localhost:8080/"
        },
        "id": "MBGdYlK4F1I_",
        "outputId": "fa92e8b7-46f2-4e16-ffc1-6c7710b22830"
      },
      "execution_count": 32,
      "outputs": [
        {
          "output_type": "execute_result",
          "data": {
            "text/plain": [
              "4"
            ]
          },
          "metadata": {},
          "execution_count": 32
        }
      ]
    },
    {
      "cell_type": "markdown",
      "source": [
        "# Linked List Reversal"
      ],
      "metadata": {
        "id": "llhzKoKZYpj4"
      }
    },
    {
      "cell_type": "code",
      "source": [
        "def reverse_ll(head):\n",
        "  if not head:\n",
        "    return None\n",
        "\n",
        "  prev = None\n",
        "  current = head\n",
        "\n",
        "# prev  - current - next\n",
        "#  None - 1      - 2 \n",
        "  while current != None:\n",
        "    # Get the next node's position before changing the link\n",
        "    next = current.next\n",
        "    current.next = prev\n",
        "    \n",
        "    prev = current\n",
        "    current = next   \n",
        "  \n",
        "  return prev"
      ],
      "metadata": {
        "id": "AXpwej0AF7Kv"
      },
      "execution_count": 33,
      "outputs": []
    },
    {
      "cell_type": "code",
      "source": [
        "ll_traverse_rec(reverse_ll (a))"
      ],
      "metadata": {
        "colab": {
          "base_uri": "https://localhost:8080/"
        },
        "id": "WLgEM8b-JiP_",
        "outputId": "cddc96dc-449c-4bb1-cf6b-804a114c461a"
      },
      "execution_count": 34,
      "outputs": [
        {
          "output_type": "stream",
          "name": "stdout",
          "text": [
            "4\n",
            "3\n",
            "2\n",
            "1\n"
          ]
        }
      ]
    },
    {
      "cell_type": "markdown",
      "source": [
        "# Zip two linked Lists"
      ],
      "metadata": {
        "id": "S9Hjbj6TmxvC"
      }
    },
    {
      "cell_type": "code",
      "source": [
        "def zip_ll(head1,head2):\n",
        "  \n",
        "  # Keep it for tracking the merged list\n",
        "  # zipping will be starting with list1's head\n",
        "  tail = head1\n",
        "  \n",
        "  current1 = head1.next\n",
        "  current2 = head2\n",
        "  # Keep a counter to choose the lists alternatively while merging\n",
        "  count = 1\n",
        "\n",
        "  while current1 != None  and current2 != None:\n",
        "    # list2\n",
        "    if count % 2 != 0:\n",
        "      tail.next = current2\n",
        "      current2 = current2.next\n",
        "    \n",
        "    # list1\n",
        "    else:\n",
        "      tail.next = current1\n",
        "      current1 = current1.next\n",
        "    # Advance the tail position\n",
        "    tail = tail.next \n",
        "    count += 1  \n",
        "  \n",
        "  # If any one of the list gets completed before the other \n",
        "  if current1 == None:\n",
        "    tail.next = current2\n",
        "  \n",
        "  if current2 == None:\n",
        "    tail.next = current1\n",
        "\n",
        "  return head1"
      ],
      "metadata": {
        "id": "-yFTVUpTmtHh"
      },
      "execution_count": 35,
      "outputs": []
    },
    {
      "cell_type": "code",
      "source": [
        "a = Node(1)\n",
        "b = Node(2)\n",
        "c = Node(3)\n",
        "d = Node(4)\n",
        "e = Node(5)\n",
        "f = Node(6)\n",
        "a.next = b\n",
        "b.next = c\n",
        "d.next = e\n",
        "e.next = f"
      ],
      "metadata": {
        "id": "qhWQnM3tJ_5S"
      },
      "execution_count": 36,
      "outputs": []
    },
    {
      "cell_type": "code",
      "source": [
        "zip = zip_ll(a,d)"
      ],
      "metadata": {
        "id": "sk7Yk21npXnh"
      },
      "execution_count": 37,
      "outputs": []
    },
    {
      "cell_type": "code",
      "source": [
        "ll_traverse_rec(zip)"
      ],
      "metadata": {
        "colab": {
          "base_uri": "https://localhost:8080/"
        },
        "id": "nIc2OzGaperU",
        "outputId": "9655a4c0-2cfe-4b42-b62d-984a4480e95c"
      },
      "execution_count": 38,
      "outputs": [
        {
          "output_type": "stream",
          "name": "stdout",
          "text": [
            "1\n",
            "4\n",
            "2\n",
            "5\n",
            "3\n",
            "6\n"
          ]
        }
      ]
    }
  ]
}