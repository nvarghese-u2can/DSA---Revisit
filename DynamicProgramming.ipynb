{
  "nbformat": 4,
  "nbformat_minor": 0,
  "metadata": {
    "colab": {
      "name": "DynamicProgramming.ipynb",
      "provenance": [],
      "collapsed_sections": [],
      "authorship_tag": "ABX9TyNlG1rYTKpbWGW7+hIPPHA2",
      "include_colab_link": true
    },
    "kernelspec": {
      "name": "python3",
      "display_name": "Python 3"
    },
    "language_info": {
      "name": "python"
    }
  },
  "cells": [
    {
      "cell_type": "markdown",
      "metadata": {
        "id": "view-in-github",
        "colab_type": "text"
      },
      "source": [
        "<a href=\"https://colab.research.google.com/github/nvarghese-u2can/DSA---Revisit/blob/main/DynamicProgramming.ipynb\" target=\"_parent\"><img src=\"https://colab.research.google.com/assets/colab-badge.svg\" alt=\"Open In Colab\"/></a>"
      ]
    },
    {
      "cell_type": "markdown",
      "source": [
        "Author : Nelson Vithayathil Varghese\n",
        "\n",
        "\n",
        "This file has various problems that utilize the Dynamic Programming technique - Memoization "
      ],
      "metadata": {
        "id": "8Rv_8A8CIumU"
      }
    },
    {
      "cell_type": "code",
      "source": [
        "# def fib(num):\n",
        "#   result = []\n",
        "#   n1,n2 = 0,1\n",
        "#   if num == 1:\n",
        "#     # print(n1)\n",
        "#     result.append(n1)\n",
        "#   else:\n",
        "#     count = 0\n",
        "#     while count < num:\n",
        "#       # print(n1)\n",
        "#       result.append(n1)\n",
        "#       next = n1 + n2\n",
        "#       n1 = n2\n",
        "#       n2 = next\n",
        "#       count += 1\n",
        "\n",
        "#   return result"
      ],
      "metadata": {
        "id": "hlYn18s3JYx-"
      },
      "execution_count": null,
      "outputs": []
    },
    {
      "cell_type": "code",
      "source": [
        "# fib(500)"
      ],
      "metadata": {
        "id": "OtHM77ixNmE_"
      },
      "execution_count": null,
      "outputs": []
    },
    {
      "cell_type": "markdown",
      "source": [
        "**DP Solution**"
      ],
      "metadata": {
        "id": "NzR5Yuwxs66T"
      }
    },
    {
      "cell_type": "code",
      "execution_count": null,
      "metadata": {
        "id": "cDVB1O2kIrUr"
      },
      "outputs": [],
      "source": [
        "def fib_series(num, memo = {}):\n",
        "  if num in memo:\n",
        "    return memo[num]\n",
        "    \n",
        "  if num == 0 or num == 1:\n",
        "    return num\n",
        "  memo [num] = (fib_series(num - 1, memo) + fib_series(num - 2, memo))\n",
        "\n",
        "  return memo[num]"
      ]
    },
    {
      "cell_type": "code",
      "source": [
        "import time\n",
        "start = time.time()\n",
        "result = fib_series(500)\n",
        "stop = time.time()\n",
        "print(f'result is :{ result} | time taken is in seconds:{stop - start}')"
      ],
      "metadata": {
        "colab": {
          "base_uri": "https://localhost:8080/"
        },
        "id": "JKWYU7-SJVHg",
        "outputId": "e76b9531-8c22-4da9-e7e7-26c498892e9f"
      },
      "execution_count": null,
      "outputs": [
        {
          "output_type": "stream",
          "name": "stdout",
          "text": [
            "result is :139423224561697880139724382870407283950070256587697307264108962948325571622863290691557658876222521294125 | time taken is in seconds:0.0008547306060791016\n"
          ]
        }
      ]
    },
    {
      "cell_type": "code",
      "source": [
        ""
      ],
      "metadata": {
        "id": "hDm7oOkpNnP2"
      },
      "execution_count": null,
      "outputs": []
    },
    {
      "cell_type": "markdown",
      "source": [
        "2-D Grid Travel Problem"
      ],
      "metadata": {
        "id": "biDMMmYSbs1o"
      }
    },
    {
      "cell_type": "code",
      "source": [
        "def grid_travel_2d(row,col,memo = {}):\n",
        "  pos = str(row) +',' + str(col)\n",
        "  if pos in memo:\n",
        "    return memo[pos]\n",
        "\n",
        "  if row == 0 or col == 0:\n",
        "    return 0 \n",
        "\n",
        "  if row == 1 and col == 1:\n",
        "    return 1\n",
        "  memo[pos] = grid_travel_2d(row-1,col) + grid_travel_2d(row,col-1)\n",
        "  return memo[pos]"
      ],
      "metadata": {
        "id": "I5xKcyZtcK9m"
      },
      "execution_count": null,
      "outputs": []
    },
    {
      "cell_type": "code",
      "source": [
        "grid_travel_2d(444,246)"
      ],
      "metadata": {
        "colab": {
          "base_uri": "https://localhost:8080/"
        },
        "id": "OFp4B6Zjc9li",
        "outputId": "b1c9d21b-bf7c-47cb-c50a-5eeb9b643449"
      },
      "execution_count": null,
      "outputs": [
        {
          "output_type": "execute_result",
          "data": {
            "text/plain": [
              "11482770587229247425094011205734696882894979578868458103203076259185328128476088619773928884785168000042647448155644811917227819028767154318334323310413632962360969026831151925616556282991936000"
            ]
          },
          "metadata": {},
          "execution_count": 36
        }
      ]
    },
    {
      "cell_type": "code",
      "source": [
        "'a' +',' + 'b'"
      ],
      "metadata": {
        "colab": {
          "base_uri": "https://localhost:8080/",
          "height": 35
        },
        "id": "g7kmiwQPc_uI",
        "outputId": "caa96ed2-9f1c-45ce-b46d-ca3c2a776ca1"
      },
      "execution_count": null,
      "outputs": [
        {
          "output_type": "execute_result",
          "data": {
            "text/plain": [
              "'a,b'"
            ],
            "application/vnd.google.colaboratory.intrinsic+json": {
              "type": "string"
            }
          },
          "metadata": {},
          "execution_count": 37
        }
      ]
    },
    {
      "cell_type": "markdown",
      "source": [
        "**Target Sum Problem**\n",
        "\n",
        "Brute-force Solution"
      ],
      "metadata": {
        "id": "6q7F2zcZa8qk"
      }
    },
    {
      "cell_type": "code",
      "source": [
        "def target_sum(data,target):\n",
        "  if target == 0:\n",
        "    return True\n",
        "    \n",
        "  if target < 0:\n",
        "    return False\n",
        "  \n",
        "  for item in data:\n",
        "    rem = target - item\n",
        "    if  target_sum(data,rem) == True:\n",
        "      return True\n",
        "  return False"
      ],
      "metadata": {
        "id": "-eZV2sniduJ2"
      },
      "execution_count": null,
      "outputs": []
    },
    {
      "cell_type": "code",
      "source": [
        "target_sum([2,8],7)"
      ],
      "metadata": {
        "colab": {
          "base_uri": "https://localhost:8080/"
        },
        "id": "QD3wQN7_kvXk",
        "outputId": "6b192c90-0e25-43f2-c4d5-57a00b151624"
      },
      "execution_count": null,
      "outputs": [
        {
          "output_type": "execute_result",
          "data": {
            "text/plain": [
              "False"
            ]
          },
          "metadata": {},
          "execution_count": 39
        }
      ]
    },
    {
      "cell_type": "markdown",
      "source": [
        "**Dynamic Programming based solution**"
      ],
      "metadata": {
        "id": "5wDlK3cfbBqr"
      }
    },
    {
      "cell_type": "code",
      "source": [
        "def target_sum_dp(data,target, memo = {}):\n",
        "  if target in memo:\n",
        "    return memo[target]\n",
        "\n",
        "  if target == 0:\n",
        "    return True\n",
        "\n",
        "  if target < 0:\n",
        "    return False\n",
        "  \n",
        "  for item in data:\n",
        "    rem = target - item\n",
        "    if target_sum_dp(data,rem,memo) == True:\n",
        "      memo[target] = True\n",
        "      return memo[target]\n",
        "\n",
        "  memo[target] = False\n",
        "  return memo[target]"
      ],
      "metadata": {
        "id": "fxmF5qJwkzer"
      },
      "execution_count": null,
      "outputs": []
    },
    {
      "cell_type": "code",
      "source": [
        "target_sum_dp([2,8],0)"
      ],
      "metadata": {
        "colab": {
          "base_uri": "https://localhost:8080/"
        },
        "id": "wObJVGpbdrux",
        "outputId": "b2e9ba4d-8a52-40f3-a657-4bf1e3d9529e"
      },
      "execution_count": null,
      "outputs": [
        {
          "output_type": "execute_result",
          "data": {
            "text/plain": [
              "True"
            ]
          },
          "metadata": {},
          "execution_count": 41
        }
      ]
    },
    {
      "cell_type": "markdown",
      "source": [
        "**Target Sum Problem**\n",
        "\n",
        "Brute-force Solution"
      ],
      "metadata": {
        "id": "s6Y91dHxtJvI"
      }
    },
    {
      "cell_type": "code",
      "source": [
        "def target_sum_list(data,target,result=[]):\n",
        "  if target == 0:\n",
        "    return []\n",
        "\n",
        "  if target < 0:\n",
        "    return None\n",
        "\n",
        "  for item in data:\n",
        "    rem = target - item\n",
        "    total = target_sum_list(data,rem,result)\n",
        "    if total != None:\n",
        "      result.append(item)\n",
        "      return result\n",
        "\n",
        "  return None"
      ],
      "metadata": {
        "id": "5lVOmuREdxiN"
      },
      "execution_count": null,
      "outputs": []
    },
    {
      "cell_type": "code",
      "source": [
        "target_sum_list([2,3],15)"
      ],
      "metadata": {
        "colab": {
          "base_uri": "https://localhost:8080/"
        },
        "id": "K0EV1p67hAwd",
        "outputId": "bb778280-292d-4860-d86a-69879f16f0d1"
      },
      "execution_count": null,
      "outputs": [
        {
          "output_type": "execute_result",
          "data": {
            "text/plain": [
              "[3, 2, 2, 2, 2, 2, 2]"
            ]
          },
          "metadata": {},
          "execution_count": 43
        }
      ]
    },
    {
      "cell_type": "markdown",
      "source": [
        "**Dynamic Programming based solution**"
      ],
      "metadata": {
        "id": "VPgZyyszILRF"
      }
    },
    {
      "cell_type": "code",
      "source": [
        "def target_sum_list_dp(data,target,result = [],memo = {}):\n",
        "  \n",
        "  if target in memo:\n",
        "    return memo[target]\n",
        "\n",
        "  if target == 0:\n",
        "    return []\n",
        "  if target < 0:\n",
        "    return None\n",
        "\n",
        "  for item in data:\n",
        "    rem = target - item\n",
        "    total = target_sum_list_dp(data,rem,result,memo )\n",
        "    if total != None:\n",
        "      result.append(item)\n",
        "      memo[target] = result\n",
        "      return memo[target]\n",
        "\n",
        "  memo[target] = None    \n",
        "  return memo[target]  "
      ],
      "metadata": {
        "id": "OBfV1rLxhEMM"
      },
      "execution_count": null,
      "outputs": []
    },
    {
      "cell_type": "code",
      "source": [
        "target_sum_list_dp([2,2],6)"
      ],
      "metadata": {
        "colab": {
          "base_uri": "https://localhost:8080/"
        },
        "id": "nXoizTIwH7p4",
        "outputId": "3dd3b5e4-d483-46eb-d5c6-3a5106b6a8fb"
      },
      "execution_count": null,
      "outputs": [
        {
          "output_type": "execute_result",
          "data": {
            "text/plain": [
              "[2, 2, 2]"
            ]
          },
          "metadata": {},
          "execution_count": 45
        }
      ]
    },
    {
      "cell_type": "code",
      "source": [
        "data = [1,2,3]\n",
        "data[:] + [4]"
      ],
      "metadata": {
        "colab": {
          "base_uri": "https://localhost:8080/"
        },
        "id": "LEHdd8zTICN3",
        "outputId": "598ee12c-edbb-49b1-8ee5-fd5ed5c331fe"
      },
      "execution_count": null,
      "outputs": [
        {
          "output_type": "execute_result",
          "data": {
            "text/plain": [
              "[1, 2, 3, 4]"
            ]
          },
          "metadata": {},
          "execution_count": 46
        }
      ]
    },
    {
      "cell_type": "markdown",
      "source": [
        "**Best Sum Combination Problem**"
      ],
      "metadata": {
        "id": "W30xjazOYGug"
      }
    },
    {
      "cell_type": "code",
      "source": [
        "def best_sum_list(data,target):\n",
        "  if target == 0:\n",
        "    return []\n",
        "  if target < 0:\n",
        "    return None\n",
        "  shortest_combination = None\n",
        "  for item in data:\n",
        "    rem = target - item\n",
        "    val = best_sum_list(data,rem)\n",
        "    if val != None:\n",
        "      combination = val[:] + [item]\n",
        "      # print(f'Current combination is {combination}')\n",
        "      if shortest_combination == None or len(combination) < len(shortest_combination):\n",
        "        shortest_combination = combination\n",
        "      \n",
        "\n",
        "  return shortest_combination"
      ],
      "metadata": {
        "id": "BUk7EXMUKpP3"
      },
      "execution_count": null,
      "outputs": []
    },
    {
      "cell_type": "code",
      "source": [
        "best_sum_list([4,3,7],7)"
      ],
      "metadata": {
        "colab": {
          "base_uri": "https://localhost:8080/"
        },
        "id": "1AEfRO7XWJHp",
        "outputId": "e42cb1f2-9755-406b-d7f0-b28bc9ceeff0"
      },
      "execution_count": null,
      "outputs": [
        {
          "output_type": "execute_result",
          "data": {
            "text/plain": [
              "[7]"
            ]
          },
          "metadata": {},
          "execution_count": 48
        }
      ]
    },
    {
      "cell_type": "markdown",
      "source": [
        "**Dynamic Problem Solution**"
      ],
      "metadata": {
        "id": "uubKMOKNYKz6"
      }
    },
    {
      "cell_type": "code",
      "source": [
        "def best_sum_list_dp(data,target,memo={}):\n",
        "  if target in memo:\n",
        "    return memo[target]\n",
        "  if target  == 0:\n",
        "    return []\n",
        "  if target < 0:\n",
        "    return None\n",
        "  small_combination = None\n",
        "  for item in data:\n",
        "    rem = target - item\n",
        "    val =  best_sum_list_dp(data,rem,memo) \n",
        "    if val != None:      \n",
        "      combination = val[:] + [item]\n",
        "\n",
        "      if small_combination == None or len(combination) < len(small_combination):\n",
        "        small_combination = combination\n",
        "        \n",
        "  memo[target] = small_combination\n",
        "  return memo[target]"
      ],
      "metadata": {
        "id": "xsNV-WloWQNt"
      },
      "execution_count": null,
      "outputs": []
    },
    {
      "cell_type": "code",
      "source": [
        "best_sum_list_dp([3,4,7],89)"
      ],
      "metadata": {
        "colab": {
          "base_uri": "https://localhost:8080/"
        },
        "id": "BAwmqtC_aOsR",
        "outputId": "99a8be00-3688-4b54-dd39-e8645202b6c6"
      },
      "execution_count": null,
      "outputs": [
        {
          "output_type": "execute_result",
          "data": {
            "text/plain": [
              "[7, 7, 7, 7, 7, 7, 7, 7, 7, 7, 7, 4, 4, 4]"
            ]
          },
          "metadata": {},
          "execution_count": 50
        }
      ]
    },
    {
      "cell_type": "markdown",
      "source": [
        "**Check whether a String can be made from the given input data**"
      ],
      "metadata": {
        "id": "gEVNPsVgAtlH"
      }
    },
    {
      "cell_type": "code",
      "source": [
        "def canMakeString(data,target):\n",
        "  \n",
        "  if target == '':\n",
        "    return True\n",
        "\n",
        "  for item in data:\n",
        "    # print(f'item :{item},target :{target}')    \n",
        "    try:      \n",
        "      if target.index(item) == 0:\n",
        "        rem = target[len(item):]\n",
        "        # print(f'rem: {rem}')\n",
        "        if canMakeString(data,rem):\n",
        "          return True         \n",
        "\n",
        "    except ValueError:\n",
        "      pass      \n",
        "\n",
        "  return False\n",
        "if __name__ == \"__main__\":\n",
        "  print(canMakeString(['sam','abc','sung',],'samsung'), canMakeString(['ab','abc','cd','def','abcd'],'abcdefg'))"
      ],
      "metadata": {
        "id": "L1DTzJmQauzA",
        "colab": {
          "base_uri": "https://localhost:8080/"
        },
        "outputId": "009b3b9b-f071-4894-fdda-a509e187747c"
      },
      "execution_count": null,
      "outputs": [
        {
          "output_type": "stream",
          "name": "stdout",
          "text": [
            "True False\n"
          ]
        }
      ]
    },
    {
      "cell_type": "markdown",
      "source": [
        "**Dynamic Programming Solution**"
      ],
      "metadata": {
        "id": "5TQTutrGAzuk"
      }
    },
    {
      "cell_type": "code",
      "source": [
        "def canMakeStringDp(data,target,memo = {}):\n",
        "  if target in memo:\n",
        "    return memo[target]\n",
        "\n",
        "  if target == '':\n",
        "    return True\n",
        "  \n",
        "  for item in data:\n",
        "    try:\n",
        "      if target.index(item) == 0:\n",
        "        rem = target[len(item):]\n",
        "        if canMakeStringDp(data,rem,memo):\n",
        "          memo[target] = True\n",
        "          return memo[target]\n",
        "       \n",
        "    except:\n",
        "      pass\n",
        "\n",
        "  return False\n",
        "\n",
        "if __name__ == \"__main__\":\n",
        "  print(canMakeStringDp(['sam','abc','sung',],'samsung'), canMakeStringDp(['ab','abc','cd','def','abcd'],'abcdefg'))"
      ],
      "metadata": {
        "id": "g5EaqZJ79R2Q",
        "colab": {
          "base_uri": "https://localhost:8080/"
        },
        "outputId": "1a452d8f-6b04-4d39-f153-a89daafbe5af"
      },
      "execution_count": null,
      "outputs": [
        {
          "output_type": "stream",
          "name": "stdout",
          "text": [
            "True False\n"
          ]
        }
      ]
    },
    {
      "cell_type": "markdown",
      "source": [
        "**Count the ways in which a string can be made**"
      ],
      "metadata": {
        "id": "-3KtOy1GNDq3"
      }
    },
    {
      "cell_type": "code",
      "source": [
        "def countMakeStringWays(data,target,count = 0):\n",
        "  if target == '':\n",
        "    return True\n",
        "\n",
        "  for item in data:\n",
        "    try:\n",
        "      if target.index(item) == 0:        \n",
        "        rem = target[len(item):]        \n",
        "        if countMakeStringWays(data,rem,count) == True:          \n",
        "          count += 1        \n",
        "          \n",
        "    except ValueError:\n",
        "      pass\n",
        "\n",
        "  return count\n",
        "if __name__ == \"__main__\":\n",
        "  # print(countMakeStringWays('abcdefg',['ab','abc','cd','def','abcd','ef']))\n",
        "  # print(countMakeStringWays(['abcdef'],'abcdef'))\n",
        "  print(countMakeStringWays(['purp','p','ur','le','purpl'],'purple'))   "
      ],
      "metadata": {
        "colab": {
          "base_uri": "https://localhost:8080/"
        },
        "id": "2CXsPPF6C6Jo",
        "outputId": "ba936705-70c1-424e-d545-3e414cd16eae"
      },
      "execution_count": null,
      "outputs": [
        {
          "output_type": "stream",
          "name": "stdout",
          "text": [
            "2\n"
          ]
        }
      ]
    },
    {
      "cell_type": "markdown",
      "source": [
        "**Dynamic Programming Solution**"
      ],
      "metadata": {
        "id": "ZRY2ZorNKofb"
      }
    },
    {
      "cell_type": "code",
      "source": [
        "def countMakeStringWaysDp(data,target,count = 0,memo = {}):\n",
        "\n",
        "  if target in memo:\n",
        "    memo[target]\n",
        "\n",
        "  if target == '':\n",
        "    return True\n",
        "\n",
        "  for item in data:\n",
        "    try:\n",
        "      if target.index(item) == 0:\n",
        "        rem = target[len(item):]\n",
        "\n",
        "        if countMakeStringWaysDp(data,rem,count,memo) == True:          \n",
        "          count += 1          \n",
        "          # memo[target] = count         \n",
        "          \n",
        "    except ValueError:\n",
        "      pass\n",
        "  \n",
        "  memo[target] = count   \n",
        "  return count\n",
        "\n",
        "if __name__ == \"__main__\":\n",
        "  # print(countMakeStringWays('abcdefg',['ab','abc','cd','def','abcd','ef']))\n",
        "  # print(countMakeStringWaysDp(['abcdef'],'abcdef'))\n",
        "  print(countMakeStringWaysDp(['purp','p','ur','le','purpl'],'purple'))   "
      ],
      "metadata": {
        "id": "PJtlwV2CN7sY",
        "colab": {
          "base_uri": "https://localhost:8080/"
        },
        "outputId": "9475bb7a-71c9-4e4b-fe7a-3bcf2f8dde3e"
      },
      "execution_count": null,
      "outputs": [
        {
          "output_type": "stream",
          "name": "stdout",
          "text": [
            "2\n"
          ]
        }
      ]
    },
    {
      "cell_type": "code",
      "source": [
        "def allPossibleWays(data,target):\n",
        "\n",
        "  if target == '':\n",
        "    return [[]]\n",
        "\n",
        "  # Store the final list of various ways\n",
        "  finalResult = []\n",
        "  \n",
        "  # Store the individual way results\n",
        "  # targetOption = []\n",
        "\n",
        "  for item in data:\n",
        "    try:\n",
        "      if target.index(item) == 0:\n",
        "        rem = target[len(item):]\n",
        "        revisedTarget = allPossibleWays(data,rem)\n",
        "\n",
        "        if revisedTarget != None:\n",
        "          # print(f'revisedTarget :{revisedTarget}')\n",
        "          targetOption = list(map(lambda x : [item] + x, revisedTarget))\n",
        "          # print(f'targetOption :{targetOption},item :{item}')\n",
        "        \n",
        "        finalResult = finalResult[:] + targetOption\n",
        "\n",
        "    except ValueError:\n",
        "      pass  \n",
        "\n",
        "  return finalResult\n",
        "\n",
        "if __name__ == '__main__':\n",
        "  print(allPossibleWays(['purp','p','ur','le','purpl'],'purple'))\n",
        "  print('\\n')\n",
        "  print(allPossibleWays(['ab','abc','cd','def','abcd'],'abcdef'))"
      ],
      "metadata": {
        "id": "e6mKvfzdPWw_",
        "colab": {
          "base_uri": "https://localhost:8080/"
        },
        "outputId": "4c75473c-77bb-4dc6-9885-93acf98a62a5"
      },
      "execution_count": 23,
      "outputs": [
        {
          "output_type": "stream",
          "name": "stdout",
          "text": [
            "[['purp', 'le'], ['p', 'ur', 'p', 'le']]\n",
            "\n",
            "\n",
            "[['abc', 'def']]\n"
          ]
        }
      ]
    },
    {
      "cell_type": "markdown",
      "source": [
        ""
      ],
      "metadata": {
        "id": "PKtxhNJ5D-90"
      }
    },
    {
      "cell_type": "code",
      "source": [
        ""
      ],
      "metadata": {
        "id": "iDrBCl0aEB9O"
      },
      "execution_count": null,
      "outputs": []
    }
  ]
}