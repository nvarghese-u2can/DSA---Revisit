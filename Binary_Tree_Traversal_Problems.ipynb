{
  "nbformat": 4,
  "nbformat_minor": 0,
  "metadata": {
    "colab": {
      "name": "Binary Tree Traversal Problems.ipynb",
      "provenance": [],
      "collapsed_sections": [],
      "authorship_tag": "ABX9TyOKL4XtsFa3YkqUy23xifzM"
    },
    "kernelspec": {
      "name": "python3",
      "display_name": "Python 3"
    },
    "language_info": {
      "name": "python"
    }
  },
  "cells": [
    {
      "cell_type": "markdown",
      "source": [
        "Author : Nelson Vithaytahil Varghese\n",
        "\n",
        "This is a file created to write programs related to the Binary Tree Traversals by leveraging on the DFS / BFS methods"
      ],
      "metadata": {
        "id": "_EM6PKPuMmsx"
      }
    },
    {
      "cell_type": "code",
      "execution_count": 95,
      "metadata": {
        "id": "b76Q5KudMPaX"
      },
      "outputs": [],
      "source": [
        "class Node:\n",
        "\n",
        "  def __init__(self,value):\n",
        "    self.value = value\n",
        "    self.left = None\n",
        "    self.right = None"
      ]
    },
    {
      "cell_type": "code",
      "source": [
        "# Create a tree structure for analysis\n",
        "\n",
        "a = Node(1)\n",
        "b = Node(2)\n",
        "c = Node(3)\n",
        "d = Node(4)\n",
        "e = Node(5)\n",
        "f = Node(6)\n",
        "g = Node(7)\n",
        "\n",
        "a.left = b\n",
        "a.right = c\n",
        "a.left.left = d\n",
        "a.left.right = e\n",
        "a.right.left = f\n",
        "a.right.right = g\n",
        "\n",
        "    #        1\n",
        "    #    2       3\n",
        "    #  4   5   6   7"
      ],
      "metadata": {
        "id": "dl7b-PW0M3N4"
      },
      "execution_count": 96,
      "outputs": []
    },
    {
      "cell_type": "markdown",
      "source": [
        "Applying both the DFS and BFS methods for binary tree traversals"
      ],
      "metadata": {
        "id": "qP4lEP5XNuOD"
      }
    },
    {
      "cell_type": "markdown",
      "source": [
        "**DFS based Binary Tree Traversal**"
      ],
      "metadata": {
        "id": "bsn7gfSehf3x"
      }
    },
    {
      "cell_type": "code",
      "source": [
        "def bt_traversal_dfs(rootNode):\n",
        "  if not rootNode:\n",
        "    return None\n",
        "  stack = [rootNode]\n",
        "  result = []\n",
        "  \n",
        "  while (len(stack) > 0):\n",
        "    current = stack.pop()\n",
        "    print(current.value)\n",
        "    result.append(current.value)\n",
        "\n",
        "    if current.left != None:\n",
        "      stack.append(current.left)\n",
        "    if current.right != None:\n",
        "      stack.append(current.right)\n",
        "\n",
        "  \n",
        "  return result"
      ],
      "metadata": {
        "id": "uOeaw7ulM_NR"
      },
      "execution_count": 97,
      "outputs": []
    },
    {
      "cell_type": "code",
      "source": [
        "bt_traversal_dfs(a)"
      ],
      "metadata": {
        "colab": {
          "base_uri": "https://localhost:8080/"
        },
        "id": "L7SFh2DxPYW8",
        "outputId": "0489d811-f31f-463f-d0fc-838fadf3fd1f"
      },
      "execution_count": 98,
      "outputs": [
        {
          "output_type": "stream",
          "name": "stdout",
          "text": [
            "1\n",
            "3\n",
            "7\n",
            "6\n",
            "2\n",
            "5\n",
            "4\n"
          ]
        },
        {
          "output_type": "execute_result",
          "data": {
            "text/plain": [
              "[1, 3, 7, 6, 2, 5, 4]"
            ]
          },
          "metadata": {},
          "execution_count": 98
        }
      ]
    },
    {
      "cell_type": "markdown",
      "source": [
        "**DFS approach with recursion**"
      ],
      "metadata": {
        "id": "pKUrL94PRx68"
      }
    },
    {
      "cell_type": "code",
      "source": [
        "def bt_traversal_dfs_recur(rootNode,result = []):\n",
        "\n",
        "  if not rootNode:\n",
        "    return None\n",
        "\n",
        "  print(rootNode.value)\n",
        "  result.append(rootNode.value)\n",
        "  bt_traversal_dfs_recur(rootNode.left,result)\n",
        "  bt_traversal_dfs_recur(rootNode.right,result)\n",
        "\n",
        "  return result"
      ],
      "metadata": {
        "id": "ruhmUPLZP0yA"
      },
      "execution_count": 99,
      "outputs": []
    },
    {
      "cell_type": "code",
      "source": [
        "bt_traversal_dfs_recur(a)"
      ],
      "metadata": {
        "colab": {
          "base_uri": "https://localhost:8080/"
        },
        "id": "X-_f_JxpSzw9",
        "outputId": "0ed40820-848b-491f-b1f4-df63fcf78bac"
      },
      "execution_count": 100,
      "outputs": [
        {
          "output_type": "stream",
          "name": "stdout",
          "text": [
            "1\n",
            "2\n",
            "4\n",
            "5\n",
            "3\n",
            "6\n",
            "7\n"
          ]
        },
        {
          "output_type": "execute_result",
          "data": {
            "text/plain": [
              "[1, 2, 4, 5, 3, 6, 7]"
            ]
          },
          "metadata": {},
          "execution_count": 100
        }
      ]
    },
    {
      "cell_type": "markdown",
      "source": [
        "**BFS based Binary Tree Traversal**"
      ],
      "metadata": {
        "id": "EEiAtfllgE-h"
      }
    },
    {
      "cell_type": "code",
      "source": [
        "def bt_traversal_bfs(rootNode):\n",
        "\n",
        "  if not rootNode:\n",
        "    return None\n",
        "  queue = [rootNode]\n",
        "  index = 0\n",
        "  result = []\n",
        "\n",
        "  while (index < len(queue)):\n",
        "    current = queue[index] \n",
        "    index += 1\n",
        "    print(current.value)\n",
        "    result.append(current.value)\n",
        "\n",
        "    if current.left != None:\n",
        "      queue.append(current.left)\n",
        "    if current.right != None:\n",
        "      queue.append(current.right)\n",
        "\n",
        "\n",
        "  return result"
      ],
      "metadata": {
        "id": "Jr1IqwBTS2E8"
      },
      "execution_count": 101,
      "outputs": []
    },
    {
      "cell_type": "code",
      "source": [
        "bt_traversal_bfs(a)"
      ],
      "metadata": {
        "colab": {
          "base_uri": "https://localhost:8080/"
        },
        "id": "gcjSf9GWhC0-",
        "outputId": "f1972eac-ee8c-4fe7-9a6c-3fcef0f43ea1"
      },
      "execution_count": 102,
      "outputs": [
        {
          "output_type": "stream",
          "name": "stdout",
          "text": [
            "1\n",
            "2\n",
            "3\n",
            "4\n",
            "5\n",
            "6\n",
            "7\n"
          ]
        },
        {
          "output_type": "execute_result",
          "data": {
            "text/plain": [
              "[1, 2, 3, 4, 5, 6, 7]"
            ]
          },
          "metadata": {},
          "execution_count": 102
        }
      ]
    },
    {
      "cell_type": "markdown",
      "source": [
        "**Various binary tree problems that leverage the DFS / BFS**\n",
        "- I prefer to use the DFS as I could apply recrusion to this method of traversal"
      ],
      "metadata": {
        "id": "-wQzoZ-eybNg"
      }
    },
    {
      "cell_type": "markdown",
      "source": [
        "Check if a particular node exists in a binary tree\n",
        "\n",
        "input  : root node, search node\n",
        "\n",
        "output : bool (True / False)"
      ],
      "metadata": {
        "id": "dj5XIKx4yqrv"
      }
    },
    {
      "cell_type": "code",
      "source": [
        "def search_node(rootNode,dest):\n",
        "  \n",
        "  if not rootNode:\n",
        "    return False\n",
        "  \n",
        "  if rootNode.value == dest:\n",
        "    return True\n",
        "\n",
        "  return search_node(rootNode.left,dest) or  search_node(rootNode.right,dest)  "
      ],
      "metadata": {
        "id": "0skuvHX7hFpK"
      },
      "execution_count": 103,
      "outputs": []
    },
    {
      "cell_type": "code",
      "source": [
        "search_node(a,111),search_node(a,3)"
      ],
      "metadata": {
        "colab": {
          "base_uri": "https://localhost:8080/"
        },
        "id": "bZRxO45wzi6j",
        "outputId": "1ed3535b-b335-40e0-c655-72bcee1805f2"
      },
      "execution_count": 104,
      "outputs": [
        {
          "output_type": "execute_result",
          "data": {
            "text/plain": [
              "(False, True)"
            ]
          },
          "metadata": {},
          "execution_count": 104
        }
      ]
    },
    {
      "cell_type": "markdown",
      "source": [
        "Find the sum of all the nodes in a binary tree\n",
        "\n",
        "input  : root node\n",
        "\n",
        "output : integer sum"
      ],
      "metadata": {
        "id": "evBCLy0225bG"
      }
    },
    {
      "cell_type": "code",
      "source": [
        "def tree_node_sum(rootNode):\n",
        "  \n",
        "  if not rootNode:\n",
        "    return 0\n",
        "\n",
        "  return (rootNode.value + tree_node_sum(rootNode.left) + tree_node_sum(rootNode.right))"
      ],
      "metadata": {
        "id": "NTWEktYczqko"
      },
      "execution_count": 105,
      "outputs": []
    },
    {
      "cell_type": "markdown",
      "source": [
        "Tree Minimum and Maximum values"
      ],
      "metadata": {
        "id": "rhN9p5Qf7Ziv"
      }
    },
    {
      "cell_type": "code",
      "source": [
        "def tree_min(rootNode):\n",
        "  \n",
        "  if not rootNode:\n",
        "    return float('inf')\n",
        "  return min(rootNode.value, min( tree_min(rootNode.left),tree_min(rootNode.right) ) )  "
      ],
      "metadata": {
        "id": "146HxZf_z4DZ"
      },
      "execution_count": 106,
      "outputs": []
    },
    {
      "cell_type": "code",
      "source": [
        "tree_min(a)"
      ],
      "metadata": {
        "colab": {
          "base_uri": "https://localhost:8080/"
        },
        "id": "GlXBhm5P1VTY",
        "outputId": "c5f5d2c2-1b2d-4080-c55e-15835e7fff65"
      },
      "execution_count": 107,
      "outputs": [
        {
          "output_type": "execute_result",
          "data": {
            "text/plain": [
              "1"
            ]
          },
          "metadata": {},
          "execution_count": 107
        }
      ]
    },
    {
      "cell_type": "code",
      "source": [
        "def tree_max(rootNode):\n",
        "  \n",
        "  if not rootNode:\n",
        "    return float('-inf')\n",
        "\n",
        "  return max(rootNode.value, max( tree_max(rootNode.left),tree_max(rootNode.right) ) )  "
      ],
      "metadata": {
        "id": "rrrHQAJk4-jO"
      },
      "execution_count": 108,
      "outputs": []
    },
    {
      "cell_type": "code",
      "source": [
        "tree_max(a)"
      ],
      "metadata": {
        "colab": {
          "base_uri": "https://localhost:8080/"
        },
        "id": "FgmWlNAn5Iua",
        "outputId": "7005f831-1873-4ecc-d273-0d918f8b5bfb"
      },
      "execution_count": 109,
      "outputs": [
        {
          "output_type": "execute_result",
          "data": {
            "text/plain": [
              "7"
            ]
          },
          "metadata": {},
          "execution_count": 109
        }
      ]
    },
    {
      "cell_type": "code",
      "source": [
        "max(5,max(6,7))"
      ],
      "metadata": {
        "colab": {
          "base_uri": "https://localhost:8080/"
        },
        "id": "ghvfPsaV7gWP",
        "outputId": "5f204f53-99bb-4d63-c474-43d2069b5c38"
      },
      "execution_count": 110,
      "outputs": [
        {
          "output_type": "execute_result",
          "data": {
            "text/plain": [
              "7"
            ]
          },
          "metadata": {},
          "execution_count": 110
        }
      ]
    },
    {
      "cell_type": "markdown",
      "source": [
        "**Sum of the tree path with maximun value**"
      ],
      "metadata": {
        "id": "r4bDkMmaDTxW"
      }
    },
    {
      "cell_type": "code",
      "source": [
        "# Create a tree structure for analysis\n",
        "\n",
        "a = Node(1)\n",
        "b = Node(2)\n",
        "c = Node(3)\n",
        "d = Node(4)\n",
        "e = Node(5)\n",
        "f = Node(6)\n",
        "g = Node(7)\n",
        "\n",
        "a.left = b\n",
        "a.right = c\n",
        "a.left.left = d\n",
        "a.left.right = e\n",
        "a.right.left = f\n",
        "a.right.right = g\n",
        "\n",
        "    #        1\n",
        "    #    2       3\n",
        "    #  4   5   6   7\n",
        "\n",
        "def max_path_sum(rootNode):\n",
        "\n",
        "  if not rootNode:\n",
        "    return 0\n",
        "\n",
        "  return (rootNode.value + max( max_path_sum(rootNode.left), max_path_sum(rootNode.right)))"
      ],
      "metadata": {
        "id": "bcE-aQztCALV"
      },
      "execution_count": 111,
      "outputs": []
    },
    {
      "cell_type": "code",
      "source": [
        "max_path_sum(a)"
      ],
      "metadata": {
        "colab": {
          "base_uri": "https://localhost:8080/"
        },
        "id": "rT-YRXiYDsx0",
        "outputId": "c09cac30-1319-4a81-906a-4d5cbad907ee"
      },
      "execution_count": 112,
      "outputs": [
        {
          "output_type": "execute_result",
          "data": {
            "text/plain": [
              "11"
            ]
          },
          "metadata": {},
          "execution_count": 112
        }
      ]
    },
    {
      "cell_type": "markdown",
      "source": [
        "**Sum of leaf nodes**"
      ],
      "metadata": {
        "id": "wzNBko0uDEAu"
      }
    },
    {
      "cell_type": "code",
      "source": [
        "def sum_leaf_nodes(rootNode):\n",
        "  queue =[rootNode]\n",
        "  index = 0\n",
        "  leaf_sum = 0\n",
        "\n",
        "  while (index < len(queue)):\n",
        "    current = queue[index]\n",
        "    index += 1\n",
        "\n",
        "    if current.left == None and current.right == None:\n",
        "      leaf_sum += current.value\n",
        "      \n",
        "    if current.left != None:\n",
        "      queue.append(current.left)\n",
        "    if current.right != None:\n",
        "      queue.append(current.right)\n",
        "\n",
        "  return leaf_sum"
      ],
      "metadata": {
        "id": "GIX8j1Y17_wC"
      },
      "execution_count": 113,
      "outputs": []
    },
    {
      "cell_type": "code",
      "source": [
        "sum_leaf_nodes(a)"
      ],
      "metadata": {
        "colab": {
          "base_uri": "https://localhost:8080/"
        },
        "id": "fbWlllkbB8WW",
        "outputId": "8508eb45-47dc-43ba-cedb-ce4a911e3a0f"
      },
      "execution_count": 114,
      "outputs": [
        {
          "output_type": "execute_result",
          "data": {
            "text/plain": [
              "22"
            ]
          },
          "metadata": {},
          "execution_count": 114
        }
      ]
    },
    {
      "cell_type": "markdown",
      "source": [
        "**Find  the level of a given Node in a binary Tree**"
      ],
      "metadata": {
        "id": "uYaVsb9YSlfV"
      }
    },
    {
      "cell_type": "markdown",
      "source": [
        "Level = 1 + number connections between the node and the root\n",
        "\n",
        "[ Height of node : longest downward path from that node to the leaf node]\n",
        "\n",
        "[ Depth of node : longest upward path from that node to the root node]\n",
        "\n",
        "Height of a binary tree == Depth of a binary tree \n"
      ],
      "metadata": {
        "id": "4iuQHQkLa4JA"
      }
    },
    {
      "cell_type": "code",
      "source": [
        "def find_node_level(rootNode,searchValue,level):\n",
        "\n",
        "  if not rootNode:\n",
        "    return 0\n",
        "\n",
        "  if rootNode.value == searchValue:\n",
        "    return level \n",
        "\n",
        "  leftLevel = find_node_level(rootNode.left,searchValue,level + 1)\n",
        "  if leftLevel != 0:\n",
        "    return leftLevel\n",
        "  else:\n",
        "    rightLevel = find_node_level(rootNode.right,searchValue,level + 1)\n",
        "    return rightLevel    \n",
        "\n",
        "def give_level(rootNode,searchValue):\n",
        "  return find_node_level(rootNode,searchValue,1 )"
      ],
      "metadata": {
        "id": "8kl1AZpsDuqU"
      },
      "execution_count": 115,
      "outputs": []
    },
    {
      "cell_type": "code",
      "source": [
        "give_level(a,3)"
      ],
      "metadata": {
        "colab": {
          "base_uri": "https://localhost:8080/"
        },
        "id": "E5sLuaTbUhrl",
        "outputId": "f8110a66-b42c-4ca5-a3f4-e786c6f7bcf8"
      },
      "execution_count": 116,
      "outputs": [
        {
          "output_type": "execute_result",
          "data": {
            "text/plain": [
              "2"
            ]
          },
          "metadata": {},
          "execution_count": 116
        }
      ]
    },
    {
      "cell_type": "markdown",
      "source": [
        "# Height of a binary Tree"
      ],
      "metadata": {
        "id": "ift2rwSM1Kvx"
      }
    },
    {
      "cell_type": "markdown",
      "source": [
        "It is the length of the longest path from the root to the leaf node\n",
        "\n",
        "- Height of the root is -1\n",
        "- Height of the leaf is  0\n",
        "\n",
        "Height of a binary Tree == Depth of a binary Tree "
      ],
      "metadata": {
        "id": "S-azh1YG1U1T"
      }
    },
    {
      "cell_type": "code",
      "source": [
        "def tree_height(rootNode):\n",
        "  if not rootNode:\n",
        "    return -1\n",
        "  return(1 + max(tree_height(rootNode.left),tree_height(rootNode.right))) "
      ],
      "metadata": {
        "id": "QGIZDCWsUkuk"
      },
      "execution_count": 117,
      "outputs": []
    },
    {
      "cell_type": "code",
      "source": [
        "tree_height(a),tree_height(g)"
      ],
      "metadata": {
        "colab": {
          "base_uri": "https://localhost:8080/"
        },
        "id": "6b0zjmqYgxZ3",
        "outputId": "edeab52f-9416-4c60-eea7-4b3992832851"
      },
      "execution_count": 118,
      "outputs": [
        {
          "output_type": "execute_result",
          "data": {
            "text/plain": [
              "(2, 0)"
            ]
          },
          "metadata": {},
          "execution_count": 118
        }
      ]
    },
    {
      "cell_type": "markdown",
      "source": [
        "# Level-order Traversal for a Binary Tree"
      ],
      "metadata": {
        "id": "92Rtqy2P_4dO"
      }
    },
    {
      "cell_type": "code",
      "source": [
        "#        1\n",
        "#    2       3\n",
        "#  4   5   6   7\n",
        "\n",
        "def tree_height(rootNode):\n",
        "  if not rootNode:\n",
        "    return -1\n",
        "\n",
        "  return(1 + max(tree_height(rootNode.left),tree_height(rootNode.right))) \n",
        "\n",
        "def printLevel(rootNode,value,nodeLevel):\n",
        "  if not rootNode:\n",
        "    return\n",
        "\n",
        "  if value == 0:\n",
        "    print(f'Node Level is { nodeLevel} : Node Value is {rootNode.value}' )\n",
        "    # print(f' Node Value is {rootNode.value}' )\n",
        "\n",
        "  if value > 0:\n",
        "    printLevel(rootNode.left,value-1,nodeLevel)\n",
        "    printLevel(rootNode.right,value-1,nodeLevel)\n",
        "  # pass\n",
        "\n",
        "def tree_level_order_traversal(rootNode):\n",
        "  height = tree_height(rootNode)\n",
        "  print(f'Binary Tree Height is {height}')\n",
        "  for value in range(height + 1):\n",
        "    nodeLevel =value + 1 \n",
        "    printLevel(rootNode,value,nodeLevel)"
      ],
      "metadata": {
        "id": "gGmsMQo-gznM"
      },
      "execution_count": 119,
      "outputs": []
    },
    {
      "cell_type": "code",
      "source": [
        "tree_level_order_traversal(a)"
      ],
      "metadata": {
        "colab": {
          "base_uri": "https://localhost:8080/"
        },
        "id": "qoNxnzFW3uFe",
        "outputId": "1e29b1f1-ef6f-4ade-ba19-1863dc2a410b"
      },
      "execution_count": 120,
      "outputs": [
        {
          "output_type": "stream",
          "name": "stdout",
          "text": [
            "Binary Tree Height is 2\n",
            "Node Level is 1 : Node Value is 1\n",
            "Node Level is 2 : Node Value is 2\n",
            "Node Level is 2 : Node Value is 3\n",
            "Node Level is 3 : Node Value is 4\n",
            "Node Level is 3 : Node Value is 5\n",
            "Node Level is 3 : Node Value is 6\n",
            "Node Level is 3 : Node Value is 7\n"
          ]
        }
      ]
    },
    {
      "cell_type": "markdown",
      "source": [
        "# Depth of a given node in a Binary Tree"
      ],
      "metadata": {
        "id": "sAziq6xt-ZbV"
      }
    },
    {
      "cell_type": "markdown",
      "source": [
        "Depth of a node in a binary tree is more kind of finding the length ( number of connecting nodes) of an upward path from that node to the root node. In other words, we could think of it as traversing the from the root to that node to find the number of connecting nodes between them."
      ],
      "metadata": {
        "id": "8vEKI5zU-gFh"
      }
    },
    {
      "cell_type": "code",
      "source": [
        "#        1\n",
        "#    2       3\n",
        "#  4   5   6   7\n",
        "\n",
        "def depth_of_bt_node(rootNode,search):\n",
        "  # Base case\n",
        "  if not rootNode:\n",
        "    return -1\n",
        "\n",
        "  distance = -1\n",
        "\n",
        "  if rootNode.value == search:\n",
        "    return distance + 1\n",
        "\n",
        "  distance = depth_of_bt_node(rootNode.left,search)\n",
        "  if distance >= 0:\n",
        "    return distance + 1\n",
        "\n",
        "  distance = depth_of_bt_node(rootNode.right,search)\n",
        "  if distance >= 0:\n",
        "    return distance + 1\n",
        "    \n",
        "  return distance  "
      ],
      "metadata": {
        "id": "nBHgKopS3wIM"
      },
      "execution_count": 121,
      "outputs": []
    },
    {
      "cell_type": "code",
      "source": [
        "depth_of_bt_node(a,3)"
      ],
      "metadata": {
        "colab": {
          "base_uri": "https://localhost:8080/"
        },
        "id": "UY0QLxLPAG37",
        "outputId": "34490fa0-8c1c-4021-bd02-77fc0558e7a1"
      },
      "execution_count": 122,
      "outputs": [
        {
          "output_type": "execute_result",
          "data": {
            "text/plain": [
              "1"
            ]
          },
          "metadata": {},
          "execution_count": 122
        }
      ]
    },
    {
      "cell_type": "markdown",
      "source": [
        "# Sum of All nodes in a binary tree\n"
      ],
      "metadata": {
        "id": "4NaHDNeEQi1K"
      }
    },
    {
      "cell_type": "code",
      "source": [
        "def sum_all_nodes(rootNode):\n",
        "  if not rootNode:\n",
        "    return 0\n",
        "  return ( rootNode.value + sum_all_nodes(rootNode.left) + sum_all_nodes(rootNode.right))"
      ],
      "metadata": {
        "id": "CFoc2-ETQrip"
      },
      "execution_count": 128,
      "outputs": []
    },
    {
      "cell_type": "code",
      "source": [
        "sum_all_nodes(a)"
      ],
      "metadata": {
        "colab": {
          "base_uri": "https://localhost:8080/"
        },
        "id": "R7OcrZgnQ7s6",
        "outputId": "c3e2812b-f012-445d-f129-caa4f53cdd12"
      },
      "execution_count": 129,
      "outputs": [
        {
          "output_type": "execute_result",
          "data": {
            "text/plain": [
              "28"
            ]
          },
          "metadata": {},
          "execution_count": 129
        }
      ]
    },
    {
      "cell_type": "code",
      "source": [
        "def count_nodes(rootNode):\n",
        "  if not rootNode:\n",
        "    return 0\n",
        "  return ( 1 + count_nodes(rootNode.left) + count_nodes(rootNode.right))"
      ],
      "metadata": {
        "id": "mKv_bogbQ9zu"
      },
      "execution_count": 132,
      "outputs": []
    },
    {
      "cell_type": "code",
      "source": [
        "count_nodes(a)"
      ],
      "metadata": {
        "colab": {
          "base_uri": "https://localhost:8080/"
        },
        "id": "Na9sQHV7Rkf0",
        "outputId": "a8be7afb-c0e8-44d9-9eb6-fc1a855931ae"
      },
      "execution_count": 133,
      "outputs": [
        {
          "output_type": "execute_result",
          "data": {
            "text/plain": [
              "7"
            ]
          },
          "metadata": {},
          "execution_count": 133
        }
      ]
    },
    {
      "cell_type": "code",
      "source": [
        "def avg_nodes(rootNode):\n",
        "  return sum_all_nodes(rootNode) // count_nodes(rootNode)"
      ],
      "metadata": {
        "id": "TWdQw78URmgh"
      },
      "execution_count": 134,
      "outputs": []
    },
    {
      "cell_type": "code",
      "source": [
        "avg_nodes(a)"
      ],
      "metadata": {
        "colab": {
          "base_uri": "https://localhost:8080/"
        },
        "id": "ebKy50IaUa7V",
        "outputId": "45e55e03-5596-44b7-9fab-78ce29f81597"
      },
      "execution_count": 135,
      "outputs": [
        {
          "output_type": "execute_result",
          "data": {
            "text/plain": [
              "4"
            ]
          },
          "metadata": {},
          "execution_count": 135
        }
      ]
    },
    {
      "cell_type": "markdown",
      "source": [
        "# Right-side view"
      ],
      "metadata": {
        "id": "jJGXcGqYVArJ"
      }
    },
    {
      "cell_type": "code",
      "source": [
        "def right_view(rootNode,result = []):\n",
        "  if not rootNode:\n",
        "    return None\n",
        "  result.append(rootNode.value)\n",
        "  right_view(rootNode.right,result)\n",
        "  \n",
        "  return result"
      ],
      "metadata": {
        "id": "t4rBzP8rUc0i"
      },
      "execution_count": 136,
      "outputs": []
    },
    {
      "cell_type": "code",
      "source": [
        "right_view(a)"
      ],
      "metadata": {
        "colab": {
          "base_uri": "https://localhost:8080/"
        },
        "id": "G61zmoesVecK",
        "outputId": "15b0e1d9-bc0c-4412-b0fc-3b5f57292a0f"
      },
      "execution_count": 137,
      "outputs": [
        {
          "output_type": "execute_result",
          "data": {
            "text/plain": [
              "[1, 3, 7]"
            ]
          },
          "metadata": {},
          "execution_count": 137
        }
      ]
    },
    {
      "cell_type": "markdown",
      "source": [
        "# Sum / Average of the node values at the same level"
      ],
      "metadata": {
        "id": "x3UZAT1Jl2gs"
      }
    },
    {
      "cell_type": "code",
      "source": [
        "def sum_same_node_level(rootNode):\n",
        "  if not rootNode:\n",
        "    return []\n",
        "  \n",
        "  stack = [rootNode]\n",
        "  result = []\n",
        "\n",
        "  while len(stack) > 0:\n",
        "\n",
        "    size = len(stack)\n",
        "    cur_sum = 0\n",
        "    cur_count = 0\n",
        "    print(f'stack size is :{size}')\n",
        "\n",
        "    for _ in range(size):\n",
        "      current = stack.pop(0)\n",
        "      cur_sum += current.value\n",
        "      cur_count += 1\n",
        "      if current.left != None:\n",
        "        stack.append(current.left)\n",
        "      if current.right != None:\n",
        "        stack.append(current.right)\n",
        "\n",
        "    result.append(cur_sum / cur_count)\n",
        "\n",
        "  return result  "
      ],
      "metadata": {
        "id": "lqwBGyhdVjfh"
      },
      "execution_count": 152,
      "outputs": []
    },
    {
      "cell_type": "code",
      "source": [
        "sum_same_node_level(a)"
      ],
      "metadata": {
        "colab": {
          "base_uri": "https://localhost:8080/"
        },
        "id": "_MmHOIrlouUX",
        "outputId": "7afe95a8-a54e-4ee0-f37e-d22cb9afe527"
      },
      "execution_count": 153,
      "outputs": [
        {
          "output_type": "stream",
          "name": "stdout",
          "text": [
            "stack size is :1\n",
            "stack size is :2\n",
            "stack size is :4\n"
          ]
        },
        {
          "output_type": "execute_result",
          "data": {
            "text/plain": [
              "[1.0, 2.5, 5.5]"
            ]
          },
          "metadata": {},
          "execution_count": 153
        }
      ]
    },
    {
      "cell_type": "markdown",
      "source": [
        "# Binary Tree Traversal methods"
      ],
      "metadata": {
        "id": "R8UmqipTsqVI"
      }
    },
    {
      "cell_type": "markdown",
      "source": [
        "Post-order"
      ],
      "metadata": {
        "id": "WVArUSPasvtR"
      }
    },
    {
      "cell_type": "code",
      "source": [
        "def post_order(rootNode):\n",
        "  if not rootNode:\n",
        "    return []\n",
        "\n",
        "  return (post_order(rootNode.left) + post_order(rootNode.right) + [rootNode.value])"
      ],
      "metadata": {
        "id": "u1tlfOEMox9x"
      },
      "execution_count": 165,
      "outputs": []
    },
    {
      "cell_type": "code",
      "source": [
        "post_order(a)"
      ],
      "metadata": {
        "colab": {
          "base_uri": "https://localhost:8080/"
        },
        "id": "6acv6zaVtGCb",
        "outputId": "fc897d30-09cc-49d3-eac1-1fc84cf6ca3f"
      },
      "execution_count": 166,
      "outputs": [
        {
          "output_type": "execute_result",
          "data": {
            "text/plain": [
              "[4, 5, 2, 6, 7, 3, 1]"
            ]
          },
          "metadata": {},
          "execution_count": 166
        }
      ]
    },
    {
      "cell_type": "code",
      "source": [
        "def in_order(rootNode):\n",
        "  if not rootNode:\n",
        "    return []\n",
        "\n",
        "  return (in_order(rootNode.left) + [rootNode.value] + in_order(rootNode.right))"
      ],
      "metadata": {
        "id": "whJZiwIZtJm7"
      },
      "execution_count": 167,
      "outputs": []
    },
    {
      "cell_type": "markdown",
      "source": [
        "in-order"
      ],
      "metadata": {
        "id": "5oiy6d5ZvaEo"
      }
    },
    {
      "cell_type": "code",
      "source": [
        "in_order(a)"
      ],
      "metadata": {
        "colab": {
          "base_uri": "https://localhost:8080/"
        },
        "id": "k47JepNJu7bN",
        "outputId": "0254bc20-b5b3-4229-e5d7-f85bd333407b"
      },
      "execution_count": 168,
      "outputs": [
        {
          "output_type": "execute_result",
          "data": {
            "text/plain": [
              "[4, 2, 5, 1, 6, 3, 7]"
            ]
          },
          "metadata": {},
          "execution_count": 168
        }
      ]
    },
    {
      "cell_type": "markdown",
      "source": [
        "pre-order"
      ],
      "metadata": {
        "id": "shm-Ns7DveKh"
      }
    },
    {
      "cell_type": "code",
      "source": [
        "def pre_order(rootNode):\n",
        "  if not rootNode:\n",
        "    return []\n",
        "\n",
        "  return ([rootNode.value] + pre_order(rootNode.left) + pre_order(rootNode.right))"
      ],
      "metadata": {
        "id": "SH4f4IWju-CN"
      },
      "execution_count": 169,
      "outputs": []
    },
    {
      "cell_type": "code",
      "source": [
        "pre_order(a)"
      ],
      "metadata": {
        "colab": {
          "base_uri": "https://localhost:8080/"
        },
        "id": "_VzOmSYjvVnJ",
        "outputId": "334d20ba-9dd6-440e-cdc5-789c69ef54ed"
      },
      "execution_count": 170,
      "outputs": [
        {
          "output_type": "execute_result",
          "data": {
            "text/plain": [
              "[1, 2, 4, 5, 3, 6, 7]"
            ]
          },
          "metadata": {},
          "execution_count": 170
        }
      ]
    },
    {
      "cell_type": "code",
      "source": [
        ""
      ],
      "metadata": {
        "id": "o4twoVdQvXV4"
      },
      "execution_count": null,
      "outputs": []
    }
  ]
}