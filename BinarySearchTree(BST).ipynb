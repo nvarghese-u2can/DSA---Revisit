{
  "nbformat": 4,
  "nbformat_minor": 0,
  "metadata": {
    "colab": {
      "name": "BinarySearchTree(BST).ipynb",
      "provenance": [],
      "collapsed_sections": [],
      "authorship_tag": "ABX9TyNRyB37Fx+hW8iACLlRpQ9n"
    },
    "kernelspec": {
      "name": "python3",
      "display_name": "Python 3"
    },
    "language_info": {
      "name": "python"
    }
  },
  "cells": [
    {
      "cell_type": "code",
      "execution_count": 28,
      "metadata": {
        "id": "jjzWtSTtSI2E"
      },
      "outputs": [],
      "source": [
        "class Node:\n",
        "  def __init__ (self,value):\n",
        "    self.value = value\n",
        "    self.left = None\n",
        "    self.right = None\n",
        "    self.parent = None"
      ]
    },
    {
      "cell_type": "code",
      "source": [
        "a = Node(1)\n",
        "b = Node(2)\n",
        "c = Node(3)\n",
        "a.left = b \n",
        "a.left = c"
      ],
      "metadata": {
        "id": "mTOnI7E1Siwu"
      },
      "execution_count": 29,
      "outputs": []
    },
    {
      "cell_type": "markdown",
      "source": [
        "**Construction of a BT from a tuple input**"
      ],
      "metadata": {
        "id": "9F5qcs-VV-7E"
      }
    },
    {
      "cell_type": "code",
      "source": [
        "def construct_bt(data):\n",
        "  if isinstance(data,tuple) and len(data) == 3:\n",
        "    if data[1] == None:\n",
        "      return None\n",
        "    root = Node(data[1])\n",
        "    root.left = construct_bt(data[0])\n",
        "    root.right = construct_bt(data[2]) \n",
        "  elif data == None:\n",
        "    root = None\n",
        "  else:\n",
        "    root = Node(data)\n",
        "    \n",
        "  return root"
      ],
      "metadata": {
        "id": "28OHS3lfS1Xc"
      },
      "execution_count": 30,
      "outputs": []
    },
    {
      "cell_type": "code",
      "source": [
        "bt1 = construct_bt((1,2,3))"
      ],
      "metadata": {
        "id": "_i2h_IswTIwl"
      },
      "execution_count": 31,
      "outputs": []
    },
    {
      "cell_type": "code",
      "source": [
        "def display_bt(root,space='\\t',level = 0):\n",
        "  \n",
        "  if not root:\n",
        "    print(space*level + '$')\n",
        "    return\n",
        "  \n",
        "  if root.left == None and root.right == None:\n",
        "    print(space*level + str(root.value))\n",
        "    return\n",
        "  \n",
        "  display_bt(root.left,space,level + 1)\n",
        "  print(space*level + str(root.value))\n",
        "  display_bt(root.right,space,level + 1)"
      ],
      "metadata": {
        "id": "SK8XiUfenPEL"
      },
      "execution_count": 32,
      "outputs": []
    },
    {
      "cell_type": "code",
      "source": [
        "display_bt(bt1)"
      ],
      "metadata": {
        "colab": {
          "base_uri": "https://localhost:8080/"
        },
        "id": "cir-l0e-nwLW",
        "outputId": "e4339446-8d1c-4001-886a-330947389ecf"
      },
      "execution_count": 33,
      "outputs": [
        {
          "output_type": "stream",
          "name": "stdout",
          "text": [
            "\t1\n",
            "2\n",
            "\t3\n"
          ]
        }
      ]
    },
    {
      "cell_type": "markdown",
      "source": [
        "# Check whether a given BT is a BST"
      ],
      "metadata": {
        "id": "JbD0b8RCeVFO"
      }
    },
    {
      "cell_type": "markdown",
      "source": [
        "Check whether a given BT is a BST\n",
        "\n",
        "Condition : In order for a BT to become BST, for any given node, all the values in it's left sub-tree must be less than that node's value and similarly all the values in it's right sub-tree must be greater than that node's value.\n",
        "\n",
        "Input : Root Node\n",
        "\n",
        "Output : True / False , BST min value and BST Max Value\n"
      ],
      "metadata": {
        "id": "nQorz1kzd2IN"
      }
    },
    {
      "cell_type": "code",
      "source": [
        "def remove_none(data):\n",
        "  return [i for i in data if i != None]\n",
        "\n",
        "def check_bst(root):\n",
        "  \n",
        "  if not root:\n",
        "    return True,None,None\n",
        "  \n",
        "  left_bal,min_l,max_l = check_bst(root.left)\n",
        "  right_bal,min_r,max_r = check_bst(root.right)\n",
        "\n",
        "  bst = ( left_bal and right_bal and\n",
        "         (min_l is None or max_l < root.value) and\n",
        "         (min_r is None or max_r > root.value) )\n",
        "  \n",
        "  bst_min = min(remove_none([min_l,root.value,min_r]))\n",
        "  bst_max = max(remove_none([max_l,root.value,max_r]))\n",
        "\n",
        "  return bst,bst_min,bst_max"
      ],
      "metadata": {
        "id": "IdD-pcysTK0s"
      },
      "execution_count": 34,
      "outputs": []
    },
    {
      "cell_type": "code",
      "source": [
        "check_bst(bt1)"
      ],
      "metadata": {
        "id": "wFSJ1iUngvNr",
        "colab": {
          "base_uri": "https://localhost:8080/"
        },
        "outputId": "07708f12-d137-46c9-bf38-b61d116e810b"
      },
      "execution_count": 35,
      "outputs": [
        {
          "output_type": "execute_result",
          "data": {
            "text/plain": [
              "(True, 1, 3)"
            ]
          },
          "metadata": {},
          "execution_count": 35
        }
      ]
    },
    {
      "cell_type": "markdown",
      "source": [
        "# Insert a new node to a BST"
      ],
      "metadata": {
        "id": "-arJhbvxMyqT"
      }
    },
    {
      "cell_type": "markdown",
      "source": [
        "Input : root node of a BST, node value for the new node"
      ],
      "metadata": {
        "id": "ydoNCofKNBN5"
      }
    },
    {
      "cell_type": "code",
      "source": [
        "def insert_bst(root,node_value):\n",
        "  if not root:\n",
        "    root = Node(node_value)\n",
        "  \n",
        "  # case-1\n",
        "  if node_value > root.value:\n",
        "    root.right = insert_bst(root.right,node_value)\n",
        "    root.right.parent = root\n",
        "  # node_value < root.value\n",
        "  if node_value < root.value:\n",
        "    root.left = insert_bst(root.left, node_value)\n",
        "    root.left.parent = root\n",
        "\n",
        "  return root"
      ],
      "metadata": {
        "id": "jJttKtv7jZo0"
      },
      "execution_count": 36,
      "outputs": []
    },
    {
      "cell_type": "code",
      "source": [
        "bt2 = insert_bst(bt1,5)\n",
        "display_bt(bt2)"
      ],
      "metadata": {
        "id": "czIem2QVjcZI",
        "colab": {
          "base_uri": "https://localhost:8080/"
        },
        "outputId": "f5770a66-04dc-4759-94b0-a5bcdedd1925"
      },
      "execution_count": 37,
      "outputs": [
        {
          "output_type": "stream",
          "name": "stdout",
          "text": [
            "\t1\n",
            "2\n",
            "\t\t$\n",
            "\t3\n",
            "\t\t5\n"
          ]
        }
      ]
    },
    {
      "cell_type": "markdown",
      "source": [
        "# Find a node from BST "
      ],
      "metadata": {
        "id": "2t5z4Ux8TXwP"
      }
    },
    {
      "cell_type": "markdown",
      "source": [
        "Input : root of BST , search_value"
      ],
      "metadata": {
        "id": "qOlYJ4yCTe0r"
      }
    },
    {
      "cell_type": "code",
      "source": [
        "def search_node(root,search_value):\n",
        "  if not root:\n",
        "    return False\n",
        "\n",
        "  if root.value == search_value:\n",
        "    return True\n",
        "\n",
        "  if search_value > root.value:\n",
        "    return search_node(root.right,search_value)\n",
        "\n",
        "  if search_value < root.value:\n",
        "    return search_node(root.left,search_value)"
      ],
      "metadata": {
        "id": "Dl2gQJM9OOvF"
      },
      "execution_count": 38,
      "outputs": []
    },
    {
      "cell_type": "code",
      "source": [
        "search_node(bt2,11),search_node(bt2,5)"
      ],
      "metadata": {
        "colab": {
          "base_uri": "https://localhost:8080/"
        },
        "id": "UfZmnBTWUYor",
        "outputId": "b818e206-97c4-46e1-90da-7fae4f120645"
      },
      "execution_count": 39,
      "outputs": [
        {
          "output_type": "execute_result",
          "data": {
            "text/plain": [
              "(False, True)"
            ]
          },
          "metadata": {},
          "execution_count": 39
        }
      ]
    },
    {
      "cell_type": "code",
      "source": [
        "def update_node(root,search_value,new_val):\n",
        "  if not root:\n",
        "    return False\n",
        "\n",
        "  if root.value == search_value:\n",
        "    root.value = new_val\n",
        "    return True\n",
        "\n",
        "  if search_value > root.value:\n",
        "    return update_node(root.right,search_value,new_val)\n",
        "\n",
        "  if search_value < root.value:\n",
        "    return update_node(root.left,search_value,new_val)"
      ],
      "metadata": {
        "id": "8kRfoGcOUbXv"
      },
      "execution_count": 40,
      "outputs": []
    },
    {
      "cell_type": "code",
      "source": [
        "update_node(bt2,7,8)\n"
      ],
      "metadata": {
        "colab": {
          "base_uri": "https://localhost:8080/"
        },
        "id": "oxXCI2byVsBD",
        "outputId": "761c3fd0-47d9-4cf0-c4ea-f50e4a661b96"
      },
      "execution_count": 41,
      "outputs": [
        {
          "output_type": "execute_result",
          "data": {
            "text/plain": [
              "False"
            ]
          },
          "metadata": {},
          "execution_count": 41
        }
      ]
    },
    {
      "cell_type": "code",
      "source": [
        "display_bt(bt2)"
      ],
      "metadata": {
        "colab": {
          "base_uri": "https://localhost:8080/"
        },
        "id": "vvFAOrsEqWjn",
        "outputId": "90b4ae85-8769-499a-ac74-8d4c2629e010"
      },
      "execution_count": 42,
      "outputs": [
        {
          "output_type": "stream",
          "name": "stdout",
          "text": [
            "\t1\n",
            "2\n",
            "\t\t$\n",
            "\t3\n",
            "\t\t5\n"
          ]
        }
      ]
    },
    {
      "cell_type": "code",
      "source": [
        "update_node(bt2,9,7)\n"
      ],
      "metadata": {
        "colab": {
          "base_uri": "https://localhost:8080/"
        },
        "id": "Lt8W1KZYWE-7",
        "outputId": "f5f33757-26a2-4812-f89c-e541a585e2a4"
      },
      "execution_count": 43,
      "outputs": [
        {
          "output_type": "execute_result",
          "data": {
            "text/plain": [
              "False"
            ]
          },
          "metadata": {},
          "execution_count": 43
        }
      ]
    },
    {
      "cell_type": "code",
      "source": [
        "display_bt(bt2)"
      ],
      "metadata": {
        "colab": {
          "base_uri": "https://localhost:8080/"
        },
        "id": "QJw4uVzjqYZp",
        "outputId": "dff9a6c0-6f6a-43cf-c3b3-ed4d9e97740e"
      },
      "execution_count": 44,
      "outputs": [
        {
          "output_type": "stream",
          "name": "stdout",
          "text": [
            "\t1\n",
            "2\n",
            "\t\t$\n",
            "\t3\n",
            "\t\t5\n"
          ]
        }
      ]
    },
    {
      "cell_type": "code",
      "source": [
        "bt3 = construct_bt((5,6,7))\n",
        "display_bt(bt3)"
      ],
      "metadata": {
        "colab": {
          "base_uri": "https://localhost:8080/"
        },
        "id": "g1ouZq7ckJwo",
        "outputId": "f0a13445-e042-40ad-ba05-ab73ae16895c"
      },
      "execution_count": 45,
      "outputs": [
        {
          "output_type": "stream",
          "name": "stdout",
          "text": [
            "\t5\n",
            "6\n",
            "\t7\n"
          ]
        }
      ]
    },
    {
      "cell_type": "code",
      "source": [
        "def check_balance(root):\n",
        "  \n",
        "  if not root:\n",
        "    return True,-1\n",
        "  \n",
        "  l_balance,l_height = check_balance(root.left)\n",
        "  r_balance,r_height = check_balance(root.right)\n",
        "  \n",
        "  balance = ( l_balance and r_balance and\n",
        "             (abs(l_height-r_height) <= 1))\n",
        "  \n",
        "  height = 1 + max(l_height,r_height)\n",
        "  \n",
        "  return balance,height  "
      ],
      "metadata": {
        "id": "JhROOc5QWRg8"
      },
      "execution_count": 46,
      "outputs": []
    },
    {
      "cell_type": "code",
      "source": [
        "check_balance(bt3)"
      ],
      "metadata": {
        "colab": {
          "base_uri": "https://localhost:8080/"
        },
        "id": "f4z8w15rkNir",
        "outputId": "93e99ba7-8097-4d59-cf43-029ebd73afc3"
      },
      "execution_count": 47,
      "outputs": [
        {
          "output_type": "execute_result",
          "data": {
            "text/plain": [
              "(True, 1)"
            ]
          },
          "metadata": {},
          "execution_count": 47
        }
      ]
    }
  ]
}