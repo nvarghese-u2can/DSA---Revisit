{
  "nbformat": 4,
  "nbformat_minor": 0,
  "metadata": {
    "colab": {
      "name": "Recursion.ipynb",
      "provenance": [],
      "collapsed_sections": [],
      "authorship_tag": "ABX9TyPF32kNCCQkLoyNbvVA8iti"
    },
    "kernelspec": {
      "name": "python3",
      "display_name": "Python 3"
    },
    "language_info": {
      "name": "python"
    }
  },
  "cells": [
    {
      "cell_type": "markdown",
      "source": [
        "Author : Nelson Vithaytahil Varghese\n",
        "\n",
        "This file has multiple programs that employ the idea of recursion"
      ],
      "metadata": {
        "id": "7Dqqq0BiD1h8"
      }
    },
    {
      "cell_type": "markdown",
      "source": [
        "# Recusrion"
      ],
      "metadata": {
        "id": "XOPLjGPJsgcU"
      }
    },
    {
      "cell_type": "markdown",
      "source": [
        "Resursion has two major parts \n",
        "\n",
        "1: Base case that needs to be executed as the the termination condiction\n",
        "   At this point, function starts returning the vlues from the call-stack\n",
        "\n",
        "2: At each individual stage, there should be an action that drives the recursion forward ( this could possibly the steps that stores the values to the call stack) "
      ],
      "metadata": {
        "id": "zygUj6bvr38-"
      }
    },
    {
      "cell_type": "markdown",
      "source": [
        ""
      ],
      "metadata": {
        "id": "ONHODsfdqLDs"
      }
    },
    {
      "cell_type": "markdown",
      "source": [
        "**String Reversal Program**"
      ],
      "metadata": {
        "id": "zF6cap2_snnC"
      }
    },
    {
      "cell_type": "code",
      "source": [
        "def rev_str(data):\n",
        "  \n",
        "  if not data:\n",
        "    return ''\n",
        "\n",
        "  return(data[-1] + rev_str(data[:-1]) )"
      ],
      "metadata": {
        "id": "w8bgTiDZscOg"
      },
      "execution_count": null,
      "outputs": []
    },
    {
      "cell_type": "code",
      "source": [
        "rev_str('Apple'),rev_str('')"
      ],
      "metadata": {
        "colab": {
          "base_uri": "https://localhost:8080/"
        },
        "id": "zxl58Is9s-1N",
        "outputId": "87f482e5-7352-4214-d99a-3242bde2b4b6"
      },
      "execution_count": null,
      "outputs": [
        {
          "output_type": "execute_result",
          "data": {
            "text/plain": [
              "('elppA', '')"
            ]
          },
          "metadata": {},
          "execution_count": 27
        }
      ]
    },
    {
      "cell_type": "markdown",
      "source": [
        "# Palindrom check"
      ],
      "metadata": {
        "id": "s5S39U0Wsdbz"
      }
    },
    {
      "cell_type": "code",
      "source": [
        "def check_palindrom(data):\n",
        "  if len(data) < 2:\n",
        "    return True\n",
        "\n",
        "  data = data.lower()\n",
        "  if data[0] == data[-1]:\n",
        "    return check_palindrom(data[1:-1])\n",
        "  else:\n",
        "    return False  "
      ],
      "metadata": {
        "id": "YB4wi_k_tw9u"
      },
      "execution_count": null,
      "outputs": []
    },
    {
      "cell_type": "code",
      "source": [
        "check_palindrom('Malayalam'),check_palindrom('malayalamT'),check_palindrom('')"
      ],
      "metadata": {
        "colab": {
          "base_uri": "https://localhost:8080/"
        },
        "id": "92r65p5svBY8",
        "outputId": "861e0985-c106-4721-89aa-e96050964bbe"
      },
      "execution_count": null,
      "outputs": [
        {
          "output_type": "execute_result",
          "data": {
            "text/plain": [
              "(True, False, True)"
            ]
          },
          "metadata": {},
          "execution_count": 30
        }
      ]
    },
    {
      "cell_type": "markdown",
      "source": [
        "# Decimal to Binary print\n"
      ],
      "metadata": {
        "id": "a7I3BGPrtnR1"
      }
    },
    {
      "cell_type": "code",
      "source": [
        "def dec_bin(num, result=''):\n",
        "  if num <= 1:\n",
        "    return str(num) + result \n",
        "\n",
        "  result +=  str(num % 2)\n",
        "  return (dec_bin(num // 2, result))"
      ],
      "metadata": {
        "id": "ZX9DrtFLt8Kr"
      },
      "execution_count": null,
      "outputs": []
    },
    {
      "cell_type": "code",
      "source": [
        "dec_bin(15),dec_bin(0)"
      ],
      "metadata": {
        "colab": {
          "base_uri": "https://localhost:8080/"
        },
        "id": "Vb6Zt-LH1Iri",
        "outputId": "bfca44eb-55e3-4f4a-e187-c111976620d7"
      },
      "execution_count": null,
      "outputs": [
        {
          "output_type": "execute_result",
          "data": {
            "text/plain": [
              "('1111', '0')"
            ]
          },
          "metadata": {},
          "execution_count": 45
        }
      ]
    },
    {
      "cell_type": "markdown",
      "source": [
        "There could be many problems where recursion can be applied to solve, but the key two steps remains the same. "
      ],
      "metadata": {
        "id": "oIfnr6oCHxX9"
      }
    }
  ]
}